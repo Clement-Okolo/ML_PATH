{
 "cells": [
  {
   "cell_type": "markdown",
   "id": "b275f2b5",
   "metadata": {},
   "source": [
    "**Dataset:**  National Health and Nutrition Examination Survey\n",
    "\n",
    "**Label:** Glycohemoglobin - also known as glycosylated hemoglobin, hemoglobin to which glucose is bound, *a measure of the long-term control of diabetes mellitus*. The level of glycohemoglobin is increased in the red blood cells of persons with poorly controlled diabetes mellitus.\n",
    "\n",
    "According to Glycohemoglobin, \n",
    "0-> Normal status \n",
    "1-> High-risk diabetes \n",
    "2-> Diabetes patients"
   ]
  },
  {
   "cell_type": "markdown",
   "id": "7cc05c2e",
   "metadata": {},
   "source": [
    "# Libraries"
   ]
  },
  {
   "cell_type": "code",
   "execution_count": 1,
   "id": "7b2c3924",
   "metadata": {},
   "outputs": [],
   "source": [
    "# load data\n",
    "import os\n",
    "import pandas as pd\n",
    "\n",
    "# numpy\n",
    "import numpy as np\n",
    "\n",
    "#sklearn\n",
    "from sklearn.feature_selection import VarianceThreshold\n",
    "from sklearn.datasets import fetch_openml\n",
    "from sklearn.linear_model import SGDClassifier\n",
    "from sklearn.tree import DecisionTreeClassifier\n",
    "from sklearn.tree import DecisionTreeRegressor\n",
    "from sklearn.model_selection import StratifiedKFold\n",
    "from sklearn.base import clone\n",
    "\n",
    "# matplotlib\n",
    "import matplotlib as mpl\n",
    "import matplotlib.pyplot as plt\n",
    "mpl.rc('axes', labelsize=14)\n",
    "mpl.rc('xtick', labelsize=12)\n",
    "mpl.rc('ytick', labelsize=12)\n",
    "\n",
    "# seaborn\n",
    "import seaborn as sns\n",
    "\n",
    "# to make this notebook's output stable across runs\n",
    "np.random.seed(42)"
   ]
  },
  {
   "cell_type": "markdown",
   "id": "5c6df48e",
   "metadata": {},
   "source": [
    "# Load Data"
   ]
  },
  {
   "cell_type": "code",
   "execution_count": 2,
   "id": "1ca97bb0",
   "metadata": {},
   "outputs": [],
   "source": [
    "DIABETES_PATH = os.path.join(\"datasets\", \"diabetes\")\n",
    "\n",
    "def load_data(filename, diabetes_path=DIABETES_PATH):\n",
    "    csv_path = os.path.join(diabetes_path, filename)\n",
    "    return pd.read_csv(csv_path)\n"
   ]
  },
  {
   "cell_type": "code",
   "execution_count": 3,
   "id": "235f688a",
   "metadata": {},
   "outputs": [],
   "source": [
    "df1 = load_data(\"labs.csv\")\n",
    "df2 = load_data(\"examination.csv\")\n",
    "df3 = load_data(\"demographic.csv\")\n",
    "df4 = load_data(\"diet.csv\")\n",
    "df5 = load_data(\"questionnaire.csv\")\n"
   ]
  },
  {
   "cell_type": "markdown",
   "id": "024dbf38",
   "metadata": {},
   "source": [
    "# Exploratory Data Analysis"
   ]
  },
  {
   "cell_type": "code",
   "execution_count": 4,
   "id": "3f84fa8b",
   "metadata": {},
   "outputs": [
    {
     "name": "stdout",
     "output_type": "stream",
     "text": [
      "<class 'pandas.core.frame.DataFrame'>\n",
      "RangeIndex: 9813 entries, 0 to 9812\n",
      "Columns: 424 entries, SEQN to LBDB12SI\n",
      "dtypes: float64(423), int64(1)\n",
      "memory usage: 31.7 MB\n"
     ]
    }
   ],
   "source": [
    "df1.info()"
   ]
  },
  {
   "cell_type": "code",
   "execution_count": 5,
   "id": "c99abf11",
   "metadata": {},
   "outputs": [
    {
     "name": "stdout",
     "output_type": "stream",
     "text": [
      "<class 'pandas.core.frame.DataFrame'>\n",
      "RangeIndex: 9813 entries, 0 to 9812\n",
      "Columns: 224 entries, SEQN to CSAEFFRT\n",
      "dtypes: float64(192), int64(3), object(29)\n",
      "memory usage: 16.8+ MB\n"
     ]
    }
   ],
   "source": [
    "df2.info()"
   ]
  },
  {
   "cell_type": "code",
   "execution_count": 6,
   "id": "41c15f79",
   "metadata": {},
   "outputs": [
    {
     "name": "stdout",
     "output_type": "stream",
     "text": [
      "<class 'pandas.core.frame.DataFrame'>\n",
      "RangeIndex: 10175 entries, 0 to 10174\n",
      "Data columns (total 47 columns):\n",
      " #   Column    Non-Null Count  Dtype  \n",
      "---  ------    --------------  -----  \n",
      " 0   SEQN      10175 non-null  int64  \n",
      " 1   SDDSRVYR  10175 non-null  int64  \n",
      " 2   RIDSTATR  10175 non-null  int64  \n",
      " 3   RIAGENDR  10175 non-null  int64  \n",
      " 4   RIDAGEYR  10175 non-null  int64  \n",
      " 5   RIDAGEMN  673 non-null    float64\n",
      " 6   RIDRETH1  10175 non-null  int64  \n",
      " 7   RIDRETH3  10175 non-null  int64  \n",
      " 8   RIDEXMON  9813 non-null   float64\n",
      " 9   RIDEXAGM  4213 non-null   float64\n",
      " 10  DMQMILIZ  6261 non-null   float64\n",
      " 11  DMQADFC   543 non-null    float64\n",
      " 12  DMDBORN4  10175 non-null  int64  \n",
      " 13  DMDCITZN  10171 non-null  float64\n",
      " 14  DMDYRSUS  1908 non-null   float64\n",
      " 15  DMDEDUC3  2803 non-null   float64\n",
      " 16  DMDEDUC2  5769 non-null   float64\n",
      " 17  DMDMARTL  5769 non-null   float64\n",
      " 18  RIDEXPRG  1309 non-null   float64\n",
      " 19  SIALANG   10175 non-null  int64  \n",
      " 20  SIAPROXY  10174 non-null  float64\n",
      " 21  SIAINTRP  10175 non-null  int64  \n",
      " 22  FIALANG   10054 non-null  float64\n",
      " 23  FIAPROXY  10054 non-null  float64\n",
      " 24  FIAINTRP  10054 non-null  float64\n",
      " 25  MIALANG   7311 non-null   float64\n",
      " 26  MIAPROXY  7312 non-null   float64\n",
      " 27  MIAINTRP  7313 non-null   float64\n",
      " 28  AIALANGA  6317 non-null   float64\n",
      " 29  DMDHHSIZ  10175 non-null  int64  \n",
      " 30  DMDFMSIZ  10175 non-null  int64  \n",
      " 31  DMDHHSZA  10175 non-null  int64  \n",
      " 32  DMDHHSZB  10175 non-null  int64  \n",
      " 33  DMDHHSZE  10175 non-null  int64  \n",
      " 34  DMDHRGND  10175 non-null  int64  \n",
      " 35  DMDHRAGE  10175 non-null  int64  \n",
      " 36  DMDHRBR4  9878 non-null   float64\n",
      " 37  DMDHREDU  9881 non-null   float64\n",
      " 38  DMDHRMAR  10052 non-null  float64\n",
      " 39  DMDHSEDU  5342 non-null   float64\n",
      " 40  WTINT2YR  10175 non-null  float64\n",
      " 41  WTMEC2YR  10175 non-null  float64\n",
      " 42  SDMVPSU   10175 non-null  int64  \n",
      " 43  SDMVSTRA  10175 non-null  int64  \n",
      " 44  INDHHIN2  10042 non-null  float64\n",
      " 45  INDFMIN2  10052 non-null  float64\n",
      " 46  INDFMPIR  9390 non-null   float64\n",
      "dtypes: float64(28), int64(19)\n",
      "memory usage: 3.6 MB\n"
     ]
    }
   ],
   "source": [
    "df3.info()"
   ]
  },
  {
   "cell_type": "code",
   "execution_count": 7,
   "id": "37428c89",
   "metadata": {},
   "outputs": [
    {
     "name": "stdout",
     "output_type": "stream",
     "text": [
      "<class 'pandas.core.frame.DataFrame'>\n",
      "RangeIndex: 9813 entries, 0 to 9812\n",
      "Columns: 168 entries, SEQN to DRD370V\n",
      "dtypes: float64(166), int64(2)\n",
      "memory usage: 12.6 MB\n"
     ]
    }
   ],
   "source": [
    "df4.info()"
   ]
  },
  {
   "cell_type": "code",
   "execution_count": 8,
   "id": "fdc381ab",
   "metadata": {},
   "outputs": [
    {
     "name": "stdout",
     "output_type": "stream",
     "text": [
      "<class 'pandas.core.frame.DataFrame'>\n",
      "RangeIndex: 10175 entries, 0 to 10174\n",
      "Columns: 953 entries, SEQN to WHQ520\n",
      "dtypes: float64(944), int64(7), object(2)\n",
      "memory usage: 74.0+ MB\n"
     ]
    }
   ],
   "source": [
    "df5.info()"
   ]
  },
  {
   "cell_type": "markdown",
   "id": "f5f16ee7",
   "metadata": {},
   "source": [
    "# Data Preparation"
   ]
  },
  {
   "cell_type": "markdown",
   "id": "d3199676",
   "metadata": {},
   "source": [
    "**Drop \"SEQN\" Column:**"
   ]
  },
  {
   "cell_type": "code",
   "execution_count": 9,
   "id": "32ed10bb",
   "metadata": {},
   "outputs": [],
   "source": [
    "df2.drop(['SEQN'], axis = 1, inplace=True)\n",
    "df3.drop(['SEQN'], axis = 1, inplace=True)\n",
    "df4.drop(['SEQN'], axis = 1, inplace=True)\n",
    "df5.drop(['SEQN'], axis = 1, inplace=True)"
   ]
  },
  {
   "cell_type": "markdown",
   "id": "5d632981",
   "metadata": {},
   "source": [
    "**Concatenate Datasets**"
   ]
  },
  {
   "cell_type": "code",
   "execution_count": 10,
   "id": "6884ec2f",
   "metadata": {},
   "outputs": [],
   "source": [
    "df = pd.concat([df1, df2], axis=1, join='inner')\n",
    "df = pd.concat([df, df3], axis=1, join='inner')\n",
    "df = pd.concat([df, df4], axis=1, join='inner')\n",
    "df = pd.concat([df, df5], axis=1, join='inner')"
   ]
  },
  {
   "cell_type": "code",
   "execution_count": 11,
   "id": "066c6e30",
   "metadata": {},
   "outputs": [
    {
     "name": "stdout",
     "output_type": "stream",
     "text": [
      "<class 'pandas.core.frame.DataFrame'>\n",
      "RangeIndex: 9813 entries, 0 to 9812\n",
      "Columns: 1812 entries, SEQN to WHQ520\n",
      "dtypes: float64(1753), int64(28), object(31)\n",
      "memory usage: 135.7+ MB\n"
     ]
    }
   ],
   "source": [
    "df.info()"
   ]
  },
  {
   "cell_type": "code",
   "execution_count": 12,
   "id": "b14237c3",
   "metadata": {},
   "outputs": [
    {
     "data": {
      "text/html": [
       "<div>\n",
       "<style scoped>\n",
       "    .dataframe tbody tr th:only-of-type {\n",
       "        vertical-align: middle;\n",
       "    }\n",
       "\n",
       "    .dataframe tbody tr th {\n",
       "        vertical-align: top;\n",
       "    }\n",
       "\n",
       "    .dataframe thead th {\n",
       "        text-align: right;\n",
       "    }\n",
       "</style>\n",
       "<table border=\"1\" class=\"dataframe\">\n",
       "  <thead>\n",
       "    <tr style=\"text-align: right;\">\n",
       "      <th></th>\n",
       "      <th>SEQN</th>\n",
       "      <th>URXUMA</th>\n",
       "      <th>URXUMS</th>\n",
       "      <th>URXUCR.x</th>\n",
       "      <th>URXCRS</th>\n",
       "      <th>URDACT</th>\n",
       "      <th>WTSAF2YR.x</th>\n",
       "      <th>LBXAPB</th>\n",
       "      <th>LBDAPBSI</th>\n",
       "      <th>LBXSAL</th>\n",
       "      <th>...</th>\n",
       "      <th>WHD080U</th>\n",
       "      <th>WHD080L</th>\n",
       "      <th>WHD110</th>\n",
       "      <th>WHD120</th>\n",
       "      <th>WHD130</th>\n",
       "      <th>WHD140</th>\n",
       "      <th>WHQ150</th>\n",
       "      <th>WHQ030M</th>\n",
       "      <th>WHQ500</th>\n",
       "      <th>WHQ520</th>\n",
       "    </tr>\n",
       "  </thead>\n",
       "  <tbody>\n",
       "    <tr>\n",
       "      <th>count</th>\n",
       "      <td>9813.000000</td>\n",
       "      <td>8052.000000</td>\n",
       "      <td>8052.000000</td>\n",
       "      <td>8052.000000</td>\n",
       "      <td>8052.000000</td>\n",
       "      <td>8052.000000</td>\n",
       "      <td>3329.000000</td>\n",
       "      <td>3145.000000</td>\n",
       "      <td>3145.000000</td>\n",
       "      <td>6553.000000</td>\n",
       "      <td>...</td>\n",
       "      <td>14.0</td>\n",
       "      <td>28.0</td>\n",
       "      <td>4036.000000</td>\n",
       "      <td>4842.000000</td>\n",
       "      <td>2667.000000</td>\n",
       "      <td>5879.000000</td>\n",
       "      <td>5800.000000</td>\n",
       "      <td>1424.000000</td>\n",
       "      <td>1424.000000</td>\n",
       "      <td>1424.000000</td>\n",
       "    </tr>\n",
       "    <tr>\n",
       "      <th>mean</th>\n",
       "      <td>78644.559971</td>\n",
       "      <td>41.218854</td>\n",
       "      <td>41.218854</td>\n",
       "      <td>121.072529</td>\n",
       "      <td>10702.811525</td>\n",
       "      <td>41.905695</td>\n",
       "      <td>78917.195254</td>\n",
       "      <td>85.898569</td>\n",
       "      <td>0.858986</td>\n",
       "      <td>4.282085</td>\n",
       "      <td>...</td>\n",
       "      <td>35.0</td>\n",
       "      <td>40.0</td>\n",
       "      <td>413.440287</td>\n",
       "      <td>567.920074</td>\n",
       "      <td>373.831646</td>\n",
       "      <td>315.447355</td>\n",
       "      <td>574.222069</td>\n",
       "      <td>2.586376</td>\n",
       "      <td>2.295646</td>\n",
       "      <td>1.747893</td>\n",
       "    </tr>\n",
       "    <tr>\n",
       "      <th>std</th>\n",
       "      <td>2938.592266</td>\n",
       "      <td>238.910226</td>\n",
       "      <td>238.910226</td>\n",
       "      <td>78.574882</td>\n",
       "      <td>6946.019595</td>\n",
       "      <td>276.261093</td>\n",
       "      <td>71088.020067</td>\n",
       "      <td>25.595258</td>\n",
       "      <td>0.255953</td>\n",
       "      <td>0.343649</td>\n",
       "      <td>...</td>\n",
       "      <td>0.0</td>\n",
       "      <td>0.0</td>\n",
       "      <td>1511.368399</td>\n",
       "      <td>1975.492188</td>\n",
       "      <td>1716.831150</td>\n",
       "      <td>1075.040013</td>\n",
       "      <td>7288.930842</td>\n",
       "      <td>0.782529</td>\n",
       "      <td>1.210905</td>\n",
       "      <td>0.707600</td>\n",
       "    </tr>\n",
       "    <tr>\n",
       "      <th>min</th>\n",
       "      <td>73557.000000</td>\n",
       "      <td>0.210000</td>\n",
       "      <td>0.210000</td>\n",
       "      <td>5.000000</td>\n",
       "      <td>442.000000</td>\n",
       "      <td>0.210000</td>\n",
       "      <td>0.000000</td>\n",
       "      <td>20.000000</td>\n",
       "      <td>0.200000</td>\n",
       "      <td>2.400000</td>\n",
       "      <td>...</td>\n",
       "      <td>35.0</td>\n",
       "      <td>40.0</td>\n",
       "      <td>75.000000</td>\n",
       "      <td>55.000000</td>\n",
       "      <td>50.000000</td>\n",
       "      <td>85.000000</td>\n",
       "      <td>10.000000</td>\n",
       "      <td>1.000000</td>\n",
       "      <td>1.000000</td>\n",
       "      <td>1.000000</td>\n",
       "    </tr>\n",
       "    <tr>\n",
       "      <th>25%</th>\n",
       "      <td>76092.000000</td>\n",
       "      <td>4.500000</td>\n",
       "      <td>4.500000</td>\n",
       "      <td>60.000000</td>\n",
       "      <td>5304.000000</td>\n",
       "      <td>5.020000</td>\n",
       "      <td>33217.405018</td>\n",
       "      <td>68.000000</td>\n",
       "      <td>0.680000</td>\n",
       "      <td>4.100000</td>\n",
       "      <td>...</td>\n",
       "      <td>35.0</td>\n",
       "      <td>40.0</td>\n",
       "      <td>140.000000</td>\n",
       "      <td>125.000000</td>\n",
       "      <td>63.000000</td>\n",
       "      <td>155.000000</td>\n",
       "      <td>25.000000</td>\n",
       "      <td>3.000000</td>\n",
       "      <td>1.000000</td>\n",
       "      <td>1.000000</td>\n",
       "    </tr>\n",
       "    <tr>\n",
       "      <th>50%</th>\n",
       "      <td>78643.000000</td>\n",
       "      <td>8.400000</td>\n",
       "      <td>8.400000</td>\n",
       "      <td>106.000000</td>\n",
       "      <td>9370.400000</td>\n",
       "      <td>7.780000</td>\n",
       "      <td>56397.702304</td>\n",
       "      <td>84.000000</td>\n",
       "      <td>0.840000</td>\n",
       "      <td>4.300000</td>\n",
       "      <td>...</td>\n",
       "      <td>35.0</td>\n",
       "      <td>40.0</td>\n",
       "      <td>165.000000</td>\n",
       "      <td>150.000000</td>\n",
       "      <td>66.000000</td>\n",
       "      <td>185.000000</td>\n",
       "      <td>38.000000</td>\n",
       "      <td>3.000000</td>\n",
       "      <td>2.000000</td>\n",
       "      <td>2.000000</td>\n",
       "    </tr>\n",
       "    <tr>\n",
       "      <th>75%</th>\n",
       "      <td>81191.000000</td>\n",
       "      <td>17.625000</td>\n",
       "      <td>17.625000</td>\n",
       "      <td>163.000000</td>\n",
       "      <td>14409.200000</td>\n",
       "      <td>15.295000</td>\n",
       "      <td>99356.561999</td>\n",
       "      <td>101.000000</td>\n",
       "      <td>1.010000</td>\n",
       "      <td>4.500000</td>\n",
       "      <td>...</td>\n",
       "      <td>35.0</td>\n",
       "      <td>40.0</td>\n",
       "      <td>198.000000</td>\n",
       "      <td>180.000000</td>\n",
       "      <td>70.000000</td>\n",
       "      <td>225.000000</td>\n",
       "      <td>53.000000</td>\n",
       "      <td>3.000000</td>\n",
       "      <td>3.000000</td>\n",
       "      <td>2.000000</td>\n",
       "    </tr>\n",
       "    <tr>\n",
       "      <th>max</th>\n",
       "      <td>83731.000000</td>\n",
       "      <td>9600.000000</td>\n",
       "      <td>9600.000000</td>\n",
       "      <td>659.000000</td>\n",
       "      <td>58255.600000</td>\n",
       "      <td>9000.000000</td>\n",
       "      <td>395978.465792</td>\n",
       "      <td>234.000000</td>\n",
       "      <td>2.340000</td>\n",
       "      <td>5.600000</td>\n",
       "      <td>...</td>\n",
       "      <td>35.0</td>\n",
       "      <td>40.0</td>\n",
       "      <td>9999.000000</td>\n",
       "      <td>9999.000000</td>\n",
       "      <td>9999.000000</td>\n",
       "      <td>9999.000000</td>\n",
       "      <td>99999.000000</td>\n",
       "      <td>9.000000</td>\n",
       "      <td>9.000000</td>\n",
       "      <td>9.000000</td>\n",
       "    </tr>\n",
       "  </tbody>\n",
       "</table>\n",
       "<p>8 rows × 1781 columns</p>\n",
       "</div>"
      ],
      "text/plain": [
       "               SEQN       URXUMA       URXUMS     URXUCR.x        URXCRS  \\\n",
       "count   9813.000000  8052.000000  8052.000000  8052.000000   8052.000000   \n",
       "mean   78644.559971    41.218854    41.218854   121.072529  10702.811525   \n",
       "std     2938.592266   238.910226   238.910226    78.574882   6946.019595   \n",
       "min    73557.000000     0.210000     0.210000     5.000000    442.000000   \n",
       "25%    76092.000000     4.500000     4.500000    60.000000   5304.000000   \n",
       "50%    78643.000000     8.400000     8.400000   106.000000   9370.400000   \n",
       "75%    81191.000000    17.625000    17.625000   163.000000  14409.200000   \n",
       "max    83731.000000  9600.000000  9600.000000   659.000000  58255.600000   \n",
       "\n",
       "            URDACT     WTSAF2YR.x       LBXAPB     LBDAPBSI       LBXSAL  ...  \\\n",
       "count  8052.000000    3329.000000  3145.000000  3145.000000  6553.000000  ...   \n",
       "mean     41.905695   78917.195254    85.898569     0.858986     4.282085  ...   \n",
       "std     276.261093   71088.020067    25.595258     0.255953     0.343649  ...   \n",
       "min       0.210000       0.000000    20.000000     0.200000     2.400000  ...   \n",
       "25%       5.020000   33217.405018    68.000000     0.680000     4.100000  ...   \n",
       "50%       7.780000   56397.702304    84.000000     0.840000     4.300000  ...   \n",
       "75%      15.295000   99356.561999   101.000000     1.010000     4.500000  ...   \n",
       "max    9000.000000  395978.465792   234.000000     2.340000     5.600000  ...   \n",
       "\n",
       "       WHD080U  WHD080L       WHD110       WHD120       WHD130       WHD140  \\\n",
       "count     14.0     28.0  4036.000000  4842.000000  2667.000000  5879.000000   \n",
       "mean      35.0     40.0   413.440287   567.920074   373.831646   315.447355   \n",
       "std        0.0      0.0  1511.368399  1975.492188  1716.831150  1075.040013   \n",
       "min       35.0     40.0    75.000000    55.000000    50.000000    85.000000   \n",
       "25%       35.0     40.0   140.000000   125.000000    63.000000   155.000000   \n",
       "50%       35.0     40.0   165.000000   150.000000    66.000000   185.000000   \n",
       "75%       35.0     40.0   198.000000   180.000000    70.000000   225.000000   \n",
       "max       35.0     40.0  9999.000000  9999.000000  9999.000000  9999.000000   \n",
       "\n",
       "             WHQ150      WHQ030M       WHQ500       WHQ520  \n",
       "count   5800.000000  1424.000000  1424.000000  1424.000000  \n",
       "mean     574.222069     2.586376     2.295646     1.747893  \n",
       "std     7288.930842     0.782529     1.210905     0.707600  \n",
       "min       10.000000     1.000000     1.000000     1.000000  \n",
       "25%       25.000000     3.000000     1.000000     1.000000  \n",
       "50%       38.000000     3.000000     2.000000     2.000000  \n",
       "75%       53.000000     3.000000     3.000000     2.000000  \n",
       "max    99999.000000     9.000000     9.000000     9.000000  \n",
       "\n",
       "[8 rows x 1781 columns]"
      ]
     },
     "execution_count": 12,
     "metadata": {},
     "output_type": "execute_result"
    }
   ],
   "source": [
    "df.describe()"
   ]
  },
  {
   "cell_type": "code",
   "execution_count": 13,
   "id": "7d5151f8",
   "metadata": {},
   "outputs": [
    {
     "name": "stdout",
     "output_type": "stream",
     "text": [
      "<class 'pandas.core.frame.DataFrame'>\n",
      "RangeIndex: 9813 entries, 0 to 9812\n",
      "Data columns (total 1 columns):\n",
      " #   Column   Non-Null Count  Dtype  \n",
      "---  ------   --------------  -----  \n",
      " 0   WHD080U  14 non-null     float64\n",
      "dtypes: float64(1)\n",
      "memory usage: 76.8 KB\n"
     ]
    }
   ],
   "source": [
    "df[[\"WHD080U\"]].info()"
   ]
  },
  {
   "cell_type": "code",
   "execution_count": 14,
   "id": "bdf7cea5",
   "metadata": {},
   "outputs": [
    {
     "name": "stdout",
     "output_type": "stream",
     "text": [
      "<class 'pandas.core.frame.DataFrame'>\n",
      "RangeIndex: 9813 entries, 0 to 9812\n",
      "Data columns (total 1 columns):\n",
      " #   Column   Non-Null Count  Dtype  \n",
      "---  ------   --------------  -----  \n",
      " 0   WHD080L  28 non-null     float64\n",
      "dtypes: float64(1)\n",
      "memory usage: 76.8 KB\n"
     ]
    }
   ],
   "source": [
    "df[[\"WHD080L\"]].info()"
   ]
  },
  {
   "cell_type": "markdown",
   "id": "777dfa22",
   "metadata": {},
   "source": [
    "# Feature Engineering"
   ]
  },
  {
   "cell_type": "markdown",
   "id": "e70fa1a9",
   "metadata": {},
   "source": [
    "**Rename Columns**"
   ]
  },
  {
   "cell_type": "code",
   "execution_count": 15,
   "id": "a9649307",
   "metadata": {},
   "outputs": [],
   "source": [
    "df = df.rename(columns = {'SEQN' : 'ID',\n",
    "                          'RIAGENDR' : 'Gender',\n",
    "                          'DMDYRSUS' : 'Years_in_US', # Nan -> american i guess\n",
    "                          'INDFMPIR' : 'Family_income',\n",
    "                          'LBXGH' : 'GlycoHemoglobin',\n",
    "                          'BMXARMC' : 'ArmCircum',\n",
    "                          'BMDAVSAD' : 'SaggitalAbdominal',\n",
    "                          'MGDCGSZ' : 'GripStrength',\n",
    "                          'DRABF' : 'Breast_fed'})"
   ]
  },
  {
   "cell_type": "markdown",
   "id": "fa8e9fbe",
   "metadata": {},
   "source": [
    "**Select Columns**"
   ]
  },
  {
   "cell_type": "code",
   "execution_count": 16,
   "id": "9e99e7b1",
   "metadata": {},
   "outputs": [
    {
     "name": "stdout",
     "output_type": "stream",
     "text": [
      "<class 'pandas.core.frame.DataFrame'>\n",
      "RangeIndex: 9813 entries, 0 to 9812\n",
      "Data columns (total 9 columns):\n",
      " #   Column             Non-Null Count  Dtype  \n",
      "---  ------             --------------  -----  \n",
      " 0   ID                 9813 non-null   int64  \n",
      " 1   Gender             9813 non-null   int64  \n",
      " 2   Years_in_US        1837 non-null   float64\n",
      " 3   Family_income      9051 non-null   float64\n",
      " 4   GlycoHemoglobin    6643 non-null   float64\n",
      " 5   ArmCircum          9301 non-null   float64\n",
      " 6   SaggitalAbdominal  7218 non-null   float64\n",
      " 7   GripStrength       7677 non-null   float64\n",
      " 8   Breast_fed         8661 non-null   float64\n",
      "dtypes: float64(7), int64(2)\n",
      "memory usage: 690.1 KB\n"
     ]
    }
   ],
   "source": [
    "df = df.loc[:, ['ID', 'Gender', 'Years_in_US', 'Family_income','GlycoHemoglobin', 'ArmCircum', \n",
    "                'SaggitalAbdominal', 'GripStrength', 'Breast_fed']]\n",
    "\n",
    "df.info()"
   ]
  },
  {
   "cell_type": "code",
   "execution_count": 17,
   "id": "127427fa",
   "metadata": {},
   "outputs": [
    {
     "data": {
      "text/html": [
       "<div>\n",
       "<style scoped>\n",
       "    .dataframe tbody tr th:only-of-type {\n",
       "        vertical-align: middle;\n",
       "    }\n",
       "\n",
       "    .dataframe tbody tr th {\n",
       "        vertical-align: top;\n",
       "    }\n",
       "\n",
       "    .dataframe thead th {\n",
       "        text-align: right;\n",
       "    }\n",
       "</style>\n",
       "<table border=\"1\" class=\"dataframe\">\n",
       "  <thead>\n",
       "    <tr style=\"text-align: right;\">\n",
       "      <th></th>\n",
       "      <th>ID</th>\n",
       "      <th>Gender</th>\n",
       "      <th>Years_in_US</th>\n",
       "      <th>Family_income</th>\n",
       "      <th>GlycoHemoglobin</th>\n",
       "      <th>ArmCircum</th>\n",
       "      <th>SaggitalAbdominal</th>\n",
       "      <th>GripStrength</th>\n",
       "      <th>Breast_fed</th>\n",
       "    </tr>\n",
       "  </thead>\n",
       "  <tbody>\n",
       "    <tr>\n",
       "      <th>count</th>\n",
       "      <td>9813.000000</td>\n",
       "      <td>9813.000000</td>\n",
       "      <td>1837.000000</td>\n",
       "      <td>9051.000000</td>\n",
       "      <td>6643.000000</td>\n",
       "      <td>9301.000000</td>\n",
       "      <td>7218.000000</td>\n",
       "      <td>7677.000000</td>\n",
       "      <td>8661.000000</td>\n",
       "    </tr>\n",
       "    <tr>\n",
       "      <th>mean</th>\n",
       "      <td>78644.559971</td>\n",
       "      <td>1.509426</td>\n",
       "      <td>8.933043</td>\n",
       "      <td>2.253101</td>\n",
       "      <td>5.642556</td>\n",
       "      <td>28.485765</td>\n",
       "      <td>21.114034</td>\n",
       "      <td>63.054891</td>\n",
       "      <td>1.984528</td>\n",
       "    </tr>\n",
       "    <tr>\n",
       "      <th>std</th>\n",
       "      <td>2938.592266</td>\n",
       "      <td>0.499937</td>\n",
       "      <td>17.787060</td>\n",
       "      <td>1.635458</td>\n",
       "      <td>1.004850</td>\n",
       "      <td>7.961971</td>\n",
       "      <td>4.963949</td>\n",
       "      <td>25.098439</td>\n",
       "      <td>0.123426</td>\n",
       "    </tr>\n",
       "    <tr>\n",
       "      <th>min</th>\n",
       "      <td>73557.000000</td>\n",
       "      <td>1.000000</td>\n",
       "      <td>1.000000</td>\n",
       "      <td>0.000000</td>\n",
       "      <td>3.500000</td>\n",
       "      <td>10.400000</td>\n",
       "      <td>10.100000</td>\n",
       "      <td>8.000000</td>\n",
       "      <td>1.000000</td>\n",
       "    </tr>\n",
       "    <tr>\n",
       "      <th>25%</th>\n",
       "      <td>76092.000000</td>\n",
       "      <td>1.000000</td>\n",
       "      <td>3.000000</td>\n",
       "      <td>0.870000</td>\n",
       "      <td>5.200000</td>\n",
       "      <td>22.600000</td>\n",
       "      <td>17.300000</td>\n",
       "      <td>45.600000</td>\n",
       "      <td>2.000000</td>\n",
       "    </tr>\n",
       "    <tr>\n",
       "      <th>50%</th>\n",
       "      <td>78643.000000</td>\n",
       "      <td>2.000000</td>\n",
       "      <td>5.000000</td>\n",
       "      <td>1.710000</td>\n",
       "      <td>5.400000</td>\n",
       "      <td>29.300000</td>\n",
       "      <td>20.700000</td>\n",
       "      <td>60.300000</td>\n",
       "      <td>2.000000</td>\n",
       "    </tr>\n",
       "    <tr>\n",
       "      <th>75%</th>\n",
       "      <td>81191.000000</td>\n",
       "      <td>2.000000</td>\n",
       "      <td>7.000000</td>\n",
       "      <td>3.610000</td>\n",
       "      <td>5.800000</td>\n",
       "      <td>34.000000</td>\n",
       "      <td>24.400000</td>\n",
       "      <td>80.700000</td>\n",
       "      <td>2.000000</td>\n",
       "    </tr>\n",
       "    <tr>\n",
       "      <th>max</th>\n",
       "      <td>83731.000000</td>\n",
       "      <td>2.000000</td>\n",
       "      <td>99.000000</td>\n",
       "      <td>5.000000</td>\n",
       "      <td>17.500000</td>\n",
       "      <td>59.400000</td>\n",
       "      <td>40.100000</td>\n",
       "      <td>162.800000</td>\n",
       "      <td>2.000000</td>\n",
       "    </tr>\n",
       "  </tbody>\n",
       "</table>\n",
       "</div>"
      ],
      "text/plain": [
       "                 ID       Gender  Years_in_US  Family_income  GlycoHemoglobin  \\\n",
       "count   9813.000000  9813.000000  1837.000000    9051.000000      6643.000000   \n",
       "mean   78644.559971     1.509426     8.933043       2.253101         5.642556   \n",
       "std     2938.592266     0.499937    17.787060       1.635458         1.004850   \n",
       "min    73557.000000     1.000000     1.000000       0.000000         3.500000   \n",
       "25%    76092.000000     1.000000     3.000000       0.870000         5.200000   \n",
       "50%    78643.000000     2.000000     5.000000       1.710000         5.400000   \n",
       "75%    81191.000000     2.000000     7.000000       3.610000         5.800000   \n",
       "max    83731.000000     2.000000    99.000000       5.000000        17.500000   \n",
       "\n",
       "         ArmCircum  SaggitalAbdominal  GripStrength   Breast_fed  \n",
       "count  9301.000000        7218.000000   7677.000000  8661.000000  \n",
       "mean     28.485765          21.114034     63.054891     1.984528  \n",
       "std       7.961971           4.963949     25.098439     0.123426  \n",
       "min      10.400000          10.100000      8.000000     1.000000  \n",
       "25%      22.600000          17.300000     45.600000     2.000000  \n",
       "50%      29.300000          20.700000     60.300000     2.000000  \n",
       "75%      34.000000          24.400000     80.700000     2.000000  \n",
       "max      59.400000          40.100000    162.800000     2.000000  "
      ]
     },
     "execution_count": 17,
     "metadata": {},
     "output_type": "execute_result"
    }
   ],
   "source": [
    "df.describe()"
   ]
  },
  {
   "cell_type": "markdown",
   "id": "ce4631a3",
   "metadata": {},
   "source": [
    "**Handling Missing Values**"
   ]
  },
  {
   "cell_type": "code",
   "execution_count": 18,
   "id": "ac791236",
   "metadata": {},
   "outputs": [],
   "source": [
    "# drop columns and rows if all cells is NaN\n",
    "df.dropna(axis=1, how='all') # dropna from columns\n",
    "df.dropna(axis=0, how='all') # dropna from rows\n",
    "\n",
    "# replace Nan with median\n",
    "df[\"GlycoHemoglobin\"].fillna(df[\"GlycoHemoglobin\"].median(), inplace=True)\n",
    "df['SaggitalAbdominal'].fillna(df['SaggitalAbdominal'].median(), inplace=True)\n",
    "df['ArmCircum'].fillna(df['ArmCircum'].median(), inplace=True)\n",
    "df['GripStrength'].fillna(df['GripStrength'].median(), inplace=True)\n",
    "\n",
    "# replace Nan with ffill\n",
    "df['Family_income'].fillna(method='ffill', inplace=True)\n",
    "\n",
    "# replace Nan with 1\n",
    "df['Breast_fed'].fillna(value = 1, inplace=True)\n",
    "\n",
    "# replace Nan with 0\n",
    "df['Years_in_US'] = df['Years_in_US'].apply(lambda x: x if x > 0 else 0)"
   ]
  },
  {
   "cell_type": "markdown",
   "id": "3bb9cf06",
   "metadata": {},
   "source": [
    "**Define Label with 3 categories**"
   ]
  },
  {
   "cell_type": "code",
   "execution_count": 19,
   "id": "7e9fa15d",
   "metadata": {},
   "outputs": [],
   "source": [
    "#0-> Normal status \n",
    "#1-> High-risk diabetes \n",
    "#2-> Diabetes patients\n",
    "\n",
    "df.loc[df['GlycoHemoglobin'] < 6.0, 'Diabetes'] = 0\n",
    "df.loc[(df['GlycoHemoglobin'] >= 6.0) & (df['GlycoHemoglobin'] <= 6.4), 'Diabetes'] = 1\n",
    "df.loc[df['GlycoHemoglobin'] >= 6.5, 'Diabetes'] = 2\n",
    "\n",
    "# drop GlycoHemoglobin and ID to avoid bias\n",
    "df.drop(['GlycoHemoglobin', 'ID'], axis = 1, inplace=True)"
   ]
  },
  {
   "cell_type": "markdown",
   "id": "035b8e3a",
   "metadata": {},
   "source": [
    "# Site of changes"
   ]
  },
  {
   "cell_type": "code",
   "execution_count": 129,
   "id": "c8c2f2b2",
   "metadata": {},
   "outputs": [
    {
     "data": {
      "text/plain": [
       "([<matplotlib.patches.Wedge at 0x20e00107fd0>,\n",
       "  <matplotlib.patches.Wedge at 0x20e001154f0>,\n",
       "  <matplotlib.patches.Wedge at 0x20e00115910>],\n",
       " [Text(-1.021002339427538, 0.40933387702888036, '87.86%, No-diabetes'),\n",
       "  Text(0.9265540885098532, -0.59287226370077, '6.16%, High-risk diabetes'),\n",
       "  Text(1.0806332747227252, -0.20550359014391814, '5.98%, Diabetic patients')])"
      ]
     },
     "execution_count": 129,
     "metadata": {},
     "output_type": "execute_result"
    },
    {
     "data": {
      "image/png": "[encoded data removed]",
      "text/plain": [
       "<Figure size 432x288 with 1 Axes>"
      ]
     },
     "metadata": {},
     "output_type": "display_data"
    }
   ],
   "source": [
    "#df[\"Diabetes\"] = df[\"Diabetes\"].astype('int').astype('category')\n",
    "y = df[[\"Diabetes\"]].value_counts()\n",
    "l = [\"87.86%, No-diabetes\", \"6.16%, High-risk diabetes\", \"5.98%, Diabetic patients\"]\n",
    "#y =np.array([8622, ])\n",
    "plt.pie(y, labels = l)\n",
    "\n"
   ]
  },
  {
   "cell_type": "code",
   "execution_count": 21,
   "id": "be715c3e",
   "metadata": {},
   "outputs": [
    {
     "data": {
      "text/html": [
       "<div>\n",
       "<style scoped>\n",
       "    .dataframe tbody tr th:only-of-type {\n",
       "        vertical-align: middle;\n",
       "    }\n",
       "\n",
       "    .dataframe tbody tr th {\n",
       "        vertical-align: top;\n",
       "    }\n",
       "\n",
       "    .dataframe thead th {\n",
       "        text-align: right;\n",
       "    }\n",
       "</style>\n",
       "<table border=\"1\" class=\"dataframe\">\n",
       "  <thead>\n",
       "    <tr style=\"text-align: right;\">\n",
       "      <th></th>\n",
       "      <th>Gender</th>\n",
       "      <th>Years_in_US</th>\n",
       "      <th>Family_income</th>\n",
       "      <th>ArmCircum</th>\n",
       "      <th>SaggitalAbdominal</th>\n",
       "      <th>GripStrength</th>\n",
       "      <th>Breast_fed</th>\n",
       "      <th>Diabetes</th>\n",
       "    </tr>\n",
       "  </thead>\n",
       "  <tbody>\n",
       "    <tr>\n",
       "      <th>count</th>\n",
       "      <td>9813.000000</td>\n",
       "      <td>9813.000000</td>\n",
       "      <td>9813.000000</td>\n",
       "      <td>9813.000000</td>\n",
       "      <td>9813.000000</td>\n",
       "      <td>9813.000000</td>\n",
       "      <td>9813.000000</td>\n",
       "      <td>9813.000000</td>\n",
       "    </tr>\n",
       "    <tr>\n",
       "      <th>mean</th>\n",
       "      <td>1.509426</td>\n",
       "      <td>1.672271</td>\n",
       "      <td>2.246973</td>\n",
       "      <td>28.528248</td>\n",
       "      <td>21.004545</td>\n",
       "      <td>62.455233</td>\n",
       "      <td>1.868949</td>\n",
       "      <td>0.182921</td>\n",
       "    </tr>\n",
       "    <tr>\n",
       "      <th>std</th>\n",
       "      <td>0.499937</td>\n",
       "      <td>8.446506</td>\n",
       "      <td>1.635495</td>\n",
       "      <td>7.753571</td>\n",
       "      <td>4.261142</td>\n",
       "      <td>22.228196</td>\n",
       "      <td>0.337473</td>\n",
       "      <td>0.522102</td>\n",
       "    </tr>\n",
       "    <tr>\n",
       "      <th>min</th>\n",
       "      <td>1.000000</td>\n",
       "      <td>0.000000</td>\n",
       "      <td>0.000000</td>\n",
       "      <td>10.400000</td>\n",
       "      <td>10.100000</td>\n",
       "      <td>8.000000</td>\n",
       "      <td>1.000000</td>\n",
       "      <td>0.000000</td>\n",
       "    </tr>\n",
       "    <tr>\n",
       "      <th>25%</th>\n",
       "      <td>1.000000</td>\n",
       "      <td>0.000000</td>\n",
       "      <td>0.870000</td>\n",
       "      <td>23.200000</td>\n",
       "      <td>18.500000</td>\n",
       "      <td>50.300000</td>\n",
       "      <td>2.000000</td>\n",
       "      <td>0.000000</td>\n",
       "    </tr>\n",
       "    <tr>\n",
       "      <th>50%</th>\n",
       "      <td>2.000000</td>\n",
       "      <td>0.000000</td>\n",
       "      <td>1.700000</td>\n",
       "      <td>29.300000</td>\n",
       "      <td>20.700000</td>\n",
       "      <td>60.300000</td>\n",
       "      <td>2.000000</td>\n",
       "      <td>0.000000</td>\n",
       "    </tr>\n",
       "    <tr>\n",
       "      <th>75%</th>\n",
       "      <td>2.000000</td>\n",
       "      <td>0.000000</td>\n",
       "      <td>3.600000</td>\n",
       "      <td>33.800000</td>\n",
       "      <td>22.900000</td>\n",
       "      <td>73.300000</td>\n",
       "      <td>2.000000</td>\n",
       "      <td>0.000000</td>\n",
       "    </tr>\n",
       "    <tr>\n",
       "      <th>max</th>\n",
       "      <td>2.000000</td>\n",
       "      <td>99.000000</td>\n",
       "      <td>5.000000</td>\n",
       "      <td>59.400000</td>\n",
       "      <td>40.100000</td>\n",
       "      <td>162.800000</td>\n",
       "      <td>2.000000</td>\n",
       "      <td>2.000000</td>\n",
       "    </tr>\n",
       "  </tbody>\n",
       "</table>\n",
       "</div>"
      ],
      "text/plain": [
       "            Gender  Years_in_US  Family_income    ArmCircum  \\\n",
       "count  9813.000000  9813.000000    9813.000000  9813.000000   \n",
       "mean      1.509426     1.672271       2.246973    28.528248   \n",
       "std       0.499937     8.446506       1.635495     7.753571   \n",
       "min       1.000000     0.000000       0.000000    10.400000   \n",
       "25%       1.000000     0.000000       0.870000    23.200000   \n",
       "50%       2.000000     0.000000       1.700000    29.300000   \n",
       "75%       2.000000     0.000000       3.600000    33.800000   \n",
       "max       2.000000    99.000000       5.000000    59.400000   \n",
       "\n",
       "       SaggitalAbdominal  GripStrength   Breast_fed     Diabetes  \n",
       "count        9813.000000   9813.000000  9813.000000  9813.000000  \n",
       "mean           21.004545     62.455233     1.868949     0.182921  \n",
       "std             4.261142     22.228196     0.337473     0.522102  \n",
       "min            10.100000      8.000000     1.000000     0.000000  \n",
       "25%            18.500000     50.300000     2.000000     0.000000  \n",
       "50%            20.700000     60.300000     2.000000     0.000000  \n",
       "75%            22.900000     73.300000     2.000000     0.000000  \n",
       "max            40.100000    162.800000     2.000000     2.000000  "
      ]
     },
     "execution_count": 21,
     "metadata": {},
     "output_type": "execute_result"
    }
   ],
   "source": [
    "df.describe()"
   ]
  },
  {
   "cell_type": "code",
   "execution_count": 22,
   "id": "c7988b65",
   "metadata": {},
   "outputs": [
    {
     "name": "stdout",
     "output_type": "stream",
     "text": [
      "<class 'pandas.core.frame.DataFrame'>\n",
      "RangeIndex: 9813 entries, 0 to 9812\n",
      "Data columns (total 8 columns):\n",
      " #   Column             Non-Null Count  Dtype  \n",
      "---  ------             --------------  -----  \n",
      " 0   Gender             9813 non-null   int64  \n",
      " 1   Years_in_US        9813 non-null   float64\n",
      " 2   Family_income      9813 non-null   float64\n",
      " 3   ArmCircum          9813 non-null   float64\n",
      " 4   SaggitalAbdominal  9813 non-null   float64\n",
      " 5   GripStrength       9813 non-null   float64\n",
      " 6   Breast_fed         9813 non-null   float64\n",
      " 7   Diabetes           9813 non-null   float64\n",
      "dtypes: float64(7), int64(1)\n",
      "memory usage: 613.4 KB\n"
     ]
    }
   ],
   "source": [
    "df.info()"
   ]
  },
  {
   "cell_type": "markdown",
   "id": "28b79df1",
   "metadata": {},
   "source": [
    "# Slip Dataset"
   ]
  },
  {
   "cell_type": "code",
   "execution_count": 23,
   "id": "c5f09df9",
   "metadata": {},
   "outputs": [],
   "source": [
    "def split_train_test(data, test_ratio):\n",
    " shuffled_indices = np.random.permutation(len(data))\n",
    " test_set_size = int(len(data) * test_ratio)\n",
    " test_indices = shuffled_indices[:test_set_size]\n",
    " train_indices = shuffled_indices[test_set_size:]\n",
    " return data.iloc[train_indices], data.iloc[test_indices]\n"
   ]
  },
  {
   "cell_type": "code",
   "execution_count": 24,
   "id": "151f8f8a",
   "metadata": {},
   "outputs": [],
   "source": [
    "train_set, test_set = split_train_test(df, 0.2)"
   ]
  },
  {
   "cell_type": "code",
   "execution_count": 25,
   "id": "8e1585f6",
   "metadata": {},
   "outputs": [
    {
     "data": {
      "text/plain": [
       "7851"
      ]
     },
     "execution_count": 25,
     "metadata": {},
     "output_type": "execute_result"
    }
   ],
   "source": [
    "len(train_set)"
   ]
  },
  {
   "cell_type": "code",
   "execution_count": 26,
   "id": "da919fe9",
   "metadata": {},
   "outputs": [
    {
     "data": {
      "text/plain": [
       "1962"
      ]
     },
     "execution_count": 26,
     "metadata": {},
     "output_type": "execute_result"
    }
   ],
   "source": [
    "len(test_set)"
   ]
  },
  {
   "cell_type": "markdown",
   "id": "4f233feb",
   "metadata": {},
   "source": [
    "show = sns.pairplot(df, hue='Diabetes', size=1.5, diag_kind='kde')\n",
    "\n",
    "show.set(xticklabels=[])"
   ]
  },
  {
   "cell_type": "markdown",
   "id": "d4cafebd",
   "metadata": {},
   "source": [
    "## Exploring anything Train Set further"
   ]
  },
  {
   "cell_type": "code",
   "execution_count": 27,
   "id": "1383829f",
   "metadata": {},
   "outputs": [],
   "source": [
    "# create a copy of the train set\n",
    "\n",
    "diabetes = train_set.copy()"
   ]
  },
  {
   "cell_type": "code",
   "execution_count": 28,
   "id": "fb60b28e",
   "metadata": {},
   "outputs": [
    {
     "data": {
      "text/plain": [
       "<AxesSubplot:>"
      ]
     },
     "execution_count": 28,
     "metadata": {},
     "output_type": "execute_result"
    },
    {
     "data": {
      "image/png": "[encoded data removed]",
      "text/plain": [
       "<Figure size 720x720 with 2 Axes>"
      ]
     },
     "metadata": {
      "needs_background": "light"
     },
     "output_type": "display_data"
    }
   ],
   "source": [
    "colormap = plt.cm.viridis\n",
    "plt.figure(figsize=(10,10))\n",
    "sns.heatmap(diabetes.astype(float).corr(), linewidths=0.1, vmax=1.0, square=True, cmap=colormap, annot=True)"
   ]
  },
  {
   "cell_type": "code",
   "execution_count": 29,
   "id": "9574042e",
   "metadata": {},
   "outputs": [
    {
     "name": "stderr",
     "output_type": "stream",
     "text": [
      "C:\\ProgramData\\Anaconda3\\lib\\site-packages\\seaborn\\axisgrid.py:1969: UserWarning: The `size` parameter has been renamed to `height`; please update your code.\n",
      "  warnings.warn(msg, UserWarning)\n"
     ]
    },
    {
     "data": {
      "text/plain": [
       "<seaborn.axisgrid.PairGrid at 0x20e4546f4f0>"
      ]
     },
     "execution_count": 29,
     "metadata": {},
     "output_type": "execute_result"
    },
    {
     "data": {
      "image/png": "[encoded data removed]",
      "text/plain": [
       "<Figure size 808.375x756 with 56 Axes>"
      ]
     },
     "metadata": {
      "needs_background": "light"
     },
     "output_type": "display_data"
    }
   ],
   "source": [
    "show = sns.pairplot(diabetes, hue='Diabetes', size=1.5, diag_kind='kde')\n",
    "\n",
    "show.set(xticklabels=[])"
   ]
  },
  {
   "cell_type": "markdown",
   "id": "447ce5fe",
   "metadata": {},
   "source": [
    "# Separate labels from predictors in train set and test set"
   ]
  },
  {
   "cell_type": "code",
   "execution_count": 30,
   "id": "e9fbf086",
   "metadata": {},
   "outputs": [],
   "source": [
    "# Predictors\n",
    "train_X = train_set.drop(\"Diabetes\", axis=1)\n",
    "test_X = test_set.drop(\"Diabetes\", axis=1)\n",
    "\n",
    "# Target values (labels)\n",
    "train_Y = train_set[\"Diabetes\"].copy()\n",
    "test_Y = test_set[\"Diabetes\"].copy()\n"
   ]
  },
  {
   "cell_type": "code",
   "execution_count": 31,
   "id": "a063b6fa",
   "metadata": {},
   "outputs": [
    {
     "name": "stderr",
     "output_type": "stream",
     "text": [
      "C:\\ProgramData\\Anaconda3\\lib\\site-packages\\pandas\\io\\formats\\format.py:1405: FutureWarning: Index.ravel returning ndarray is deprecated; in a future version this will return a view on self.\n",
      "  for val, m in zip(values.ravel(), mask.ravel())\n"
     ]
    },
    {
     "data": {
      "text/plain": [
       "4471    0.0\n",
       "6073    0.0\n",
       "4001    0.0\n",
       "1194    0.0\n",
       "8543    0.0\n",
       "       ... \n",
       "5734    0.0\n",
       "5191    0.0\n",
       "5390    0.0\n",
       "860     0.0\n",
       "7270    0.0\n",
       "Name: Diabetes, Length: 7851, dtype: category\n",
       "Categories (3, float64): [0.0, 1.0, 2.0]"
      ]
     },
     "execution_count": 31,
     "metadata": {},
     "output_type": "execute_result"
    }
   ],
   "source": [
    "train_Y.astype(\"category\")"
   ]
  },
  {
   "cell_type": "code",
   "execution_count": 32,
   "id": "273f4909",
   "metadata": {},
   "outputs": [
    {
     "data": {
      "text/plain": [
       "0.0    6898\n",
       "2.0     493\n",
       "1.0     460\n",
       "Name: Diabetes, dtype: int64"
      ]
     },
     "execution_count": 32,
     "metadata": {},
     "output_type": "execute_result"
    }
   ],
   "source": [
    "train_Y.value_counts()"
   ]
  },
  {
   "cell_type": "markdown",
   "id": "932d6e66",
   "metadata": {},
   "source": [
    "# Train Model"
   ]
  },
  {
   "cell_type": "markdown",
   "id": "74d168c2",
   "metadata": {},
   "source": [
    "## Train Linear Model"
   ]
  },
  {
   "cell_type": "code",
   "execution_count": 33,
   "id": "32486eef",
   "metadata": {},
   "outputs": [
    {
     "data": {
      "text/plain": [
       "LinearRegression()"
      ]
     },
     "execution_count": 33,
     "metadata": {},
     "output_type": "execute_result"
    }
   ],
   "source": [
    "from sklearn.linear_model import LinearRegression\n",
    "\n",
    "lin_reg = LinearRegression()\n",
    "lin_reg.fit(train_X, train_Y)"
   ]
  },
  {
   "cell_type": "markdown",
   "id": "da383db3",
   "metadata": {},
   "source": [
    "## Train SVM Regressor"
   ]
  },
  {
   "cell_type": "markdown",
   "id": "cb3e4e01",
   "metadata": {},
   "source": [
    "**LinearSRV**"
   ]
  },
  {
   "cell_type": "code",
   "execution_count": 34,
   "id": "9af86470",
   "metadata": {},
   "outputs": [
    {
     "data": {
      "text/plain": [
       "LinearSVR(epsilon=1.5, random_state=42)"
      ]
     },
     "execution_count": 34,
     "metadata": {},
     "output_type": "execute_result"
    }
   ],
   "source": [
    "from sklearn.svm import LinearSVR\n",
    "\n",
    "svm_reg = LinearSVR(epsilon=1.5, random_state=42)\n",
    "svm_reg.fit(train_X, train_Y)"
   ]
  },
  {
   "cell_type": "markdown",
   "id": "72afea8e",
   "metadata": {},
   "source": [
    "**Second degree Polynomial Kernel**"
   ]
  },
  {
   "cell_type": "code",
   "execution_count": 35,
   "id": "35547e94",
   "metadata": {},
   "outputs": [
    {
     "data": {
      "text/plain": [
       "SVR(C=100, degree=2, kernel='poly')"
      ]
     },
     "execution_count": 35,
     "metadata": {},
     "output_type": "execute_result"
    }
   ],
   "source": [
    "from sklearn.svm import SVR\n",
    "\n",
    "svm_poly_reg = SVR(kernel=\"poly\", degree=2, C=100, epsilon=0.1, gamma=\"scale\")\n",
    "svm_poly_reg.fit(train_X, train_Y)"
   ]
  },
  {
   "cell_type": "markdown",
   "id": "2f26cd13",
   "metadata": {},
   "source": [
    "**Third degree Polynomial Kernel**"
   ]
  },
  {
   "cell_type": "code",
   "execution_count": 36,
   "id": "b1c2074c",
   "metadata": {},
   "outputs": [
    {
     "data": {
      "text/plain": [
       "SVR(C=100, kernel='poly')"
      ]
     },
     "execution_count": 36,
     "metadata": {},
     "output_type": "execute_result"
    }
   ],
   "source": [
    "from sklearn.svm import SVR\n",
    "\n",
    "svm3_poly_reg = SVR(kernel=\"poly\", degree=3, C=100, epsilon=0.1, gamma=\"scale\")\n",
    "svm3_poly_reg.fit(train_X, train_Y)"
   ]
  },
  {
   "cell_type": "markdown",
   "id": "45081b28",
   "metadata": {},
   "source": [
    "**Tenth degree Polynomial Kernel**"
   ]
  },
  {
   "cell_type": "markdown",
   "id": "4dd40214",
   "metadata": {},
   "source": [
    "from sklearn.svm import SVR\n",
    "\n",
    "svm10_poly_reg = SVR(kernel=\"poly\", degree=10, C=100, epsilon=0.1, gamma=\"scale\")\n",
    "svm10_poly_reg.fit(train_X, train_Y)"
   ]
  },
  {
   "cell_type": "markdown",
   "id": "78da5ae6",
   "metadata": {},
   "source": [
    "## Train Decision Tree Regressor"
   ]
  },
  {
   "cell_type": "code",
   "execution_count": 37,
   "id": "9db2be00",
   "metadata": {},
   "outputs": [
    {
     "data": {
      "text/plain": [
       "DecisionTreeRegressor()"
      ]
     },
     "execution_count": 37,
     "metadata": {},
     "output_type": "execute_result"
    }
   ],
   "source": [
    "from sklearn.tree import DecisionTreeRegressor\n",
    "\n",
    "tree_reg = DecisionTreeRegressor()\n",
    "\n",
    "# train\n",
    "tree_reg.fit(train_X, train_Y)"
   ]
  },
  {
   "cell_type": "markdown",
   "id": "02fecf1e",
   "metadata": {},
   "source": [
    "# Train Random Forest"
   ]
  },
  {
   "cell_type": "code",
   "execution_count": 38,
   "id": "1fd34748",
   "metadata": {},
   "outputs": [
    {
     "data": {
      "text/plain": [
       "RandomForestRegressor(random_state=42)"
      ]
     },
     "execution_count": 38,
     "metadata": {},
     "output_type": "execute_result"
    }
   ],
   "source": [
    "from sklearn.ensemble import RandomForestRegressor\n",
    "\n",
    "forest_reg = RandomForestRegressor(n_estimators=100, random_state=42)\n",
    "forest_reg.fit(train_X, train_Y)"
   ]
  },
  {
   "cell_type": "markdown",
   "id": "628ddcce",
   "metadata": {},
   "source": [
    "## Train Random Forest Classifier"
   ]
  },
  {
   "cell_type": "code",
   "execution_count": 39,
   "id": "3089c7d1",
   "metadata": {},
   "outputs": [],
   "source": [
    "from sklearn.ensemble import RandomForestClassifier\n",
    "from sklearn.model_selection import cross_val_predict\n",
    "\n",
    "\n",
    "forest_clf = RandomForestClassifier(random_state=42)\n",
    "\n",
    "y_probas_forest = cross_val_predict(forest_clf, \n",
    "                                    train_X, \n",
    "                                    train_Y, \n",
    "                                    cv=3,\n",
    "                                    method=\"predict_proba\")\n"
   ]
  },
  {
   "cell_type": "markdown",
   "id": "2c2d63d8",
   "metadata": {},
   "source": [
    "# Model Evaluation"
   ]
  },
  {
   "cell_type": "markdown",
   "id": "91bfe600",
   "metadata": {},
   "source": [
    "## Linear Model"
   ]
  },
  {
   "cell_type": "code",
   "execution_count": 40,
   "id": "1fa06baa",
   "metadata": {},
   "outputs": [
    {
     "name": "stdout",
     "output_type": "stream",
     "text": [
      "Lin_MSE = 0.23642923816054034\n",
      "Lin_RMSE = 0.48623989774651394\n"
     ]
    }
   ],
   "source": [
    "from sklearn.metrics import mean_squared_error\n",
    "\n",
    "pred_y = lin_reg.predict(train_X)\n",
    "\n",
    "mse = mean_squared_error(train_Y, pred_y)\n",
    "rmse = np.sqrt(mse)\n",
    "\n",
    "print(\"Lin_MSE =\", mse)\n",
    "print(\"Lin_RMSE =\", rmse)"
   ]
  },
  {
   "cell_type": "markdown",
   "id": "bdd0dd92",
   "metadata": {},
   "source": [
    "## SVM"
   ]
  },
  {
   "cell_type": "markdown",
   "id": "b95b9548",
   "metadata": {},
   "source": [
    "**LinearSVR**"
   ]
  },
  {
   "cell_type": "code",
   "execution_count": 41,
   "id": "dc036d7a",
   "metadata": {},
   "outputs": [
    {
     "name": "stdout",
     "output_type": "stream",
     "text": [
      "SVR_MSE = 0.5714542968049461\n",
      "SVR_RMSE = 0.7559459615640168\n"
     ]
    }
   ],
   "source": [
    "pred_y = svm_reg.predict(train_X)\n",
    "\n",
    "mse = mean_squared_error(train_Y, pred_y)\n",
    "rmse = np.sqrt(mse)\n",
    "\n",
    "print(\"SVR_MSE =\", mse)\n",
    "print(\"SVR_RMSE =\", rmse)"
   ]
  },
  {
   "cell_type": "markdown",
   "id": "8202d90e",
   "metadata": {},
   "source": [
    "**Second Degree Polynomial Kernel**"
   ]
  },
  {
   "cell_type": "code",
   "execution_count": 42,
   "id": "29e87ef9",
   "metadata": {},
   "outputs": [
    {
     "name": "stdout",
     "output_type": "stream",
     "text": [
      "SVM_poly_MSE = 0.28286680620292487\n",
      "SVM_poly_RMSE = 0.5318522409494246\n"
     ]
    }
   ],
   "source": [
    "pred_y = svm_poly_reg.predict(train_X)\n",
    "\n",
    "mse = mean_squared_error(train_Y, pred_y)\n",
    "rmse = np.sqrt(mse)\n",
    "\n",
    "print(\"SVM_poly_MSE =\", mse)\n",
    "print(\"SVM_poly_RMSE =\", rmse)"
   ]
  },
  {
   "cell_type": "markdown",
   "id": "f90c7223",
   "metadata": {},
   "source": [
    "**Third Degree Polynomial Kernel**"
   ]
  },
  {
   "cell_type": "code",
   "execution_count": 43,
   "id": "17538226",
   "metadata": {},
   "outputs": [
    {
     "name": "stdout",
     "output_type": "stream",
     "text": [
      "SVM_poly_MSE = 0.28238725918693336\n",
      "SVM_poly_RMSE = 0.531401222417613\n"
     ]
    }
   ],
   "source": [
    "pred_y = svm3_poly_reg.predict(train_X)\n",
    "\n",
    "mse = mean_squared_error(train_Y, pred_y)\n",
    "rmse = np.sqrt(mse)\n",
    "\n",
    "print(\"SVM_poly_MSE =\", mse)\n",
    "print(\"SVM_poly_RMSE =\", rmse)"
   ]
  },
  {
   "cell_type": "markdown",
   "id": "36c0a569",
   "metadata": {},
   "source": [
    "## Decision Tree"
   ]
  },
  {
   "cell_type": "code",
   "execution_count": 44,
   "id": "70ee913e",
   "metadata": {},
   "outputs": [
    {
     "name": "stdout",
     "output_type": "stream",
     "text": [
      "tree_MSE = 0.0010826646287097185\n",
      "tree_RMSE = 0.03290386950967498\n"
     ]
    }
   ],
   "source": [
    "from sklearn.metrics import accuracy_score\n",
    "pred_y = tree_reg.predict(train_X)\n",
    "\n",
    "mse = mean_squared_error(train_Y, pred_y)\n",
    "rmse = np.sqrt(mse)\n",
    "\n",
    "print(\"tree_MSE =\", mse)\n",
    "print(\"tree_RMSE =\", rmse)"
   ]
  },
  {
   "cell_type": "markdown",
   "id": "b58422d6",
   "metadata": {},
   "source": [
    "## Random Forest Regressor"
   ]
  },
  {
   "cell_type": "code",
   "execution_count": 45,
   "id": "42f87bad",
   "metadata": {},
   "outputs": [
    {
     "name": "stdout",
     "output_type": "stream",
     "text": [
      "forest_MSE = 0.03588729078053464\n",
      "forest_RMSE = 0.1894394118987246\n"
     ]
    }
   ],
   "source": [
    "pred_y = forest_reg.predict(train_X)\n",
    "\n",
    "mse = mean_squared_error(train_Y, pred_y)\n",
    "rmse = np.sqrt(mse)\n",
    "\n",
    "print(\"forest_MSE =\", mse)\n",
    "print(\"forest_RMSE =\", rmse)"
   ]
  },
  {
   "cell_type": "markdown",
   "id": "2e11edd8",
   "metadata": {},
   "source": [
    "## Random forest classifier"
   ]
  },
  {
   "cell_type": "code",
   "execution_count": 46,
   "id": "2be22675",
   "metadata": {},
   "outputs": [
    {
     "data": {
      "text/plain": [
       "array([0.  , 0.03, 0.  , ..., 0.  , 0.  , 0.  ])"
      ]
     },
     "execution_count": 46,
     "metadata": {},
     "output_type": "execute_result"
    }
   ],
   "source": [
    "from sklearn.metrics import roc_auc_score\n",
    "\n",
    "# Compute scores\n",
    "y_scores_forest = y_probas_forest[:, 1] # score = proba of positive class\n",
    "y_scores_forest\n",
    "\n",
    "# RandomForestClassifier's ROC AUC Score\n",
    "#roc_auc_score(train_Y, y_scores_forest, multi_class= \"ovr\")"
   ]
  },
  {
   "cell_type": "code",
   "execution_count": 47,
   "id": "16d5b544",
   "metadata": {},
   "outputs": [
    {
     "data": {
      "text/plain": [
       "array([0.87619412, 0.87390141, 0.87160871])"
      ]
     },
     "execution_count": 47,
     "metadata": {},
     "output_type": "execute_result"
    }
   ],
   "source": [
    "from sklearn.model_selection import cross_val_score\n",
    "\n",
    "cross_val_score(forest_clf, \n",
    "                train_X, \n",
    "                train_Y, \n",
    "                cv=3, \n",
    "                scoring=\"accuracy\")"
   ]
  },
  {
   "cell_type": "markdown",
   "id": "32a17d76",
   "metadata": {},
   "source": [
    "**Confusion Matrix**\n",
    "\n",
    "y_train_pred = cross_val_predict(sgd_clf, X_train_scaled, y_train, cv=3)\n",
    "conf_mx = confusion_matrix(y_train, y_train_pred)\n",
    "conf_mx"
   ]
  },
  {
   "cell_type": "markdown",
   "id": "1751a7b5",
   "metadata": {},
   "source": [
    "# Short lists - Decision Tree and Random Forest"
   ]
  },
  {
   "cell_type": "markdown",
   "id": "b4c3f91b",
   "metadata": {},
   "source": [
    "# Scale Train and Test Data"
   ]
  },
  {
   "cell_type": "markdown",
   "id": "47ea4714",
   "metadata": {},
   "source": [
    "from sklearn.preprocessing import StandardScaler\n",
    "\n",
    "scaler = StandardScaler()\n",
    "X_train_scaled = scaler.fit_transform(train_X)\n",
    "X_test_scaled = scaler.transform(test_X)"
   ]
  },
  {
   "cell_type": "code",
   "execution_count": 49,
   "id": "0d1903c2",
   "metadata": {},
   "outputs": [
    {
     "data": {
      "text/plain": [
       "array([0.875812  , 0.87390141, 0.87199083])"
      ]
     },
     "execution_count": 49,
     "metadata": {},
     "output_type": "execute_result"
    }
   ],
   "source": [
    "# Scale Train Data\n",
    "\n",
    "from sklearn.preprocessing import StandardScaler\n",
    "scaler = StandardScaler()\n",
    "X_train_scaled = scaler.fit_transform(train_X.astype(np.float64))\n",
    "\n",
    "cross_val_score(forest_clf, \n",
    "                X_train_scaled, \n",
    "                train_Y, \n",
    "                cv=3, scoring=\"accuracy\")"
   ]
  },
  {
   "cell_type": "markdown",
   "id": "eafe30e4",
   "metadata": {},
   "source": [
    "## Decision Tree"
   ]
  },
  {
   "cell_type": "markdown",
   "id": "cdcee0d5",
   "metadata": {},
   "source": [
    "pred_y = tree_reg.predict(X_train_scaled)\n",
    "\n",
    "mse = mean_squared_error(train_Y, pred_y)\n",
    "rmse = np.sqrt(mse)\n",
    "\n",
    "print(\"tree_MSE =\", mse)\n",
    "print(\"tree_RMSE =\", rmse)"
   ]
  },
  {
   "cell_type": "markdown",
   "id": "84767fdf",
   "metadata": {},
   "source": [
    "## Random Forest"
   ]
  },
  {
   "cell_type": "markdown",
   "id": "9e3027ac",
   "metadata": {},
   "source": [
    "pred_y = forest_reg.predict(X_train_scaled)\n",
    "\n",
    "mse = mean_squared_error(train_Y, pred_y)\n",
    "rmse = np.sqrt(mse)\n",
    "\n",
    "print(\"forest_MSE =\", mse)\n",
    "print(\"forest_RMSE =\", rmse)"
   ]
  },
  {
   "cell_type": "markdown",
   "id": "b530d790",
   "metadata": {},
   "source": [
    "# NO SCALING - Scaling made the model worse"
   ]
  },
  {
   "cell_type": "markdown",
   "id": "eb47d11b",
   "metadata": {},
   "source": [
    "# Fine-Tune Model"
   ]
  },
  {
   "cell_type": "markdown",
   "id": "631ca781",
   "metadata": {},
   "source": [
    "**Decision Tree**\n",
    "\n",
    "Use grid search with cross-validation (with the help of the GridSearchCVclass) to find good hyperparameter values for a DecisionTreeClassifier.Hint: try various values for max_leaf_nodes."
   ]
  },
  {
   "cell_type": "code",
   "execution_count": 50,
   "id": "b532e3d5",
   "metadata": {},
   "outputs": [
    {
     "name": "stdout",
     "output_type": "stream",
     "text": [
      "Fitting 3 folds for each of 1485 candidates, totalling 4455 fits\n"
     ]
    },
    {
     "data": {
      "text/plain": [
       "GridSearchCV(cv=3, estimator=DecisionTreeClassifier(random_state=42),\n",
       "             param_grid={'max_leaf_nodes': [5, 6, 7, 8, 9, 10, 11, 12, 13, 14,\n",
       "                                            15, 16, 17, 18, 19, 20, 21, 22, 23,\n",
       "                                            24, 25, 26, 27, 28, 29, 30, 31, 32,\n",
       "                                            33, 34, ...],\n",
       "                         'min_samples_split': [2, 3, 4]},\n",
       "             verbose=1)"
      ]
     },
     "execution_count": 50,
     "metadata": {},
     "output_type": "execute_result"
    }
   ],
   "source": [
    "from sklearn.model_selection import GridSearchCV\n",
    "\n",
    "params = {'max_leaf_nodes': list(range(5, 500)), 'min_samples_split': [2, 3, 4]}\n",
    "grid_search_cv = GridSearchCV(DecisionTreeClassifier(random_state=42), params, verbose=1, cv=3)\n",
    "\n",
    "grid_search_cv.fit(train_X, train_Y)"
   ]
  },
  {
   "cell_type": "code",
   "execution_count": 51,
   "id": "cbad9282",
   "metadata": {},
   "outputs": [
    {
     "data": {
      "text/plain": [
       "DecisionTreeClassifier(max_leaf_nodes=13, random_state=42)"
      ]
     },
     "execution_count": 51,
     "metadata": {},
     "output_type": "execute_result"
    }
   ],
   "source": [
    "tree_best_para = grid_search_cv.best_estimator_\n",
    "tree_best_para"
   ]
  },
  {
   "cell_type": "markdown",
   "id": "8201b97e",
   "metadata": {},
   "source": [
    "**Random Forest**"
   ]
  },
  {
   "cell_type": "code",
   "execution_count": 52,
   "id": "33fcd453",
   "metadata": {},
   "outputs": [
    {
     "name": "stderr",
     "output_type": "stream",
     "text": [
      "C:\\ProgramData\\Anaconda3\\lib\\site-packages\\sklearn\\model_selection\\_validation.py:610: FitFailedWarning: Estimator fit failed. The score on this train-test partition for these parameters will be set to nan. Details: \n",
      "Traceback (most recent call last):\n",
      "  File \"C:\\ProgramData\\Anaconda3\\lib\\site-packages\\sklearn\\model_selection\\_validation.py\", line 593, in _fit_and_score\n",
      "    estimator.fit(X_train, y_train, **fit_params)\n",
      "  File \"C:\\ProgramData\\Anaconda3\\lib\\site-packages\\sklearn\\ensemble\\_forest.py\", line 387, in fit\n",
      "    trees = Parallel(n_jobs=self.n_jobs, verbose=self.verbose,\n",
      "  File \"C:\\ProgramData\\Anaconda3\\lib\\site-packages\\joblib\\parallel.py\", line 1041, in __call__\n",
      "    if self.dispatch_one_batch(iterator):\n",
      "  File \"C:\\ProgramData\\Anaconda3\\lib\\site-packages\\joblib\\parallel.py\", line 859, in dispatch_one_batch\n",
      "    self._dispatch(tasks)\n",
      "  File \"C:\\ProgramData\\Anaconda3\\lib\\site-packages\\joblib\\parallel.py\", line 777, in _dispatch\n",
      "    job = self._backend.apply_async(batch, callback=cb)\n",
      "  File \"C:\\ProgramData\\Anaconda3\\lib\\site-packages\\joblib\\_parallel_backends.py\", line 208, in apply_async\n",
      "    result = ImmediateResult(func)\n",
      "  File \"C:\\ProgramData\\Anaconda3\\lib\\site-packages\\joblib\\_parallel_backends.py\", line 572, in __init__\n",
      "    self.results = batch()\n",
      "  File \"C:\\ProgramData\\Anaconda3\\lib\\site-packages\\joblib\\parallel.py\", line 262, in __call__\n",
      "    return [func(*args, **kwargs)\n",
      "  File \"C:\\ProgramData\\Anaconda3\\lib\\site-packages\\joblib\\parallel.py\", line 262, in <listcomp>\n",
      "    return [func(*args, **kwargs)\n",
      "  File \"C:\\ProgramData\\Anaconda3\\lib\\site-packages\\sklearn\\utils\\fixes.py\", line 222, in __call__\n",
      "    return self.function(*args, **kwargs)\n",
      "  File \"C:\\ProgramData\\Anaconda3\\lib\\site-packages\\sklearn\\ensemble\\_forest.py\", line 169, in _parallel_build_trees\n",
      "    tree.fit(X, y, sample_weight=curr_sample_weight, check_input=False)\n",
      "  File \"C:\\ProgramData\\Anaconda3\\lib\\site-packages\\sklearn\\tree\\_classes.py\", line 1247, in fit\n",
      "    super().fit(\n",
      "  File \"C:\\ProgramData\\Anaconda3\\lib\\site-packages\\sklearn\\tree\\_classes.py\", line 288, in fit\n",
      "    raise ValueError(\"max_features must be in (0, n_features]\")\n",
      "ValueError: max_features must be in (0, n_features]\n",
      "\n",
      "  warnings.warn(\"Estimator fit failed. The score on this train-test\"\n",
      "C:\\ProgramData\\Anaconda3\\lib\\site-packages\\sklearn\\model_selection\\_validation.py:610: FitFailedWarning: Estimator fit failed. The score on this train-test partition for these parameters will be set to nan. Details: \n",
      "Traceback (most recent call last):\n",
      "  File \"C:\\ProgramData\\Anaconda3\\lib\\site-packages\\sklearn\\model_selection\\_validation.py\", line 593, in _fit_and_score\n",
      "    estimator.fit(X_train, y_train, **fit_params)\n",
      "  File \"C:\\ProgramData\\Anaconda3\\lib\\site-packages\\sklearn\\ensemble\\_forest.py\", line 387, in fit\n",
      "    trees = Parallel(n_jobs=self.n_jobs, verbose=self.verbose,\n",
      "  File \"C:\\ProgramData\\Anaconda3\\lib\\site-packages\\joblib\\parallel.py\", line 1041, in __call__\n",
      "    if self.dispatch_one_batch(iterator):\n",
      "  File \"C:\\ProgramData\\Anaconda3\\lib\\site-packages\\joblib\\parallel.py\", line 859, in dispatch_one_batch\n",
      "    self._dispatch(tasks)\n",
      "  File \"C:\\ProgramData\\Anaconda3\\lib\\site-packages\\joblib\\parallel.py\", line 777, in _dispatch\n",
      "    job = self._backend.apply_async(batch, callback=cb)\n",
      "  File \"C:\\ProgramData\\Anaconda3\\lib\\site-packages\\joblib\\_parallel_backends.py\", line 208, in apply_async\n",
      "    result = ImmediateResult(func)\n",
      "  File \"C:\\ProgramData\\Anaconda3\\lib\\site-packages\\joblib\\_parallel_backends.py\", line 572, in __init__\n",
      "    self.results = batch()\n",
      "  File \"C:\\ProgramData\\Anaconda3\\lib\\site-packages\\joblib\\parallel.py\", line 262, in __call__\n",
      "    return [func(*args, **kwargs)\n",
      "  File \"C:\\ProgramData\\Anaconda3\\lib\\site-packages\\joblib\\parallel.py\", line 262, in <listcomp>\n",
      "    return [func(*args, **kwargs)\n",
      "  File \"C:\\ProgramData\\Anaconda3\\lib\\site-packages\\sklearn\\utils\\fixes.py\", line 222, in __call__\n",
      "    return self.function(*args, **kwargs)\n",
      "  File \"C:\\ProgramData\\Anaconda3\\lib\\site-packages\\sklearn\\ensemble\\_forest.py\", line 169, in _parallel_build_trees\n",
      "    tree.fit(X, y, sample_weight=curr_sample_weight, check_input=False)\n",
      "  File \"C:\\ProgramData\\Anaconda3\\lib\\site-packages\\sklearn\\tree\\_classes.py\", line 1247, in fit\n",
      "    super().fit(\n",
      "  File \"C:\\ProgramData\\Anaconda3\\lib\\site-packages\\sklearn\\tree\\_classes.py\", line 288, in fit\n",
      "    raise ValueError(\"max_features must be in (0, n_features]\")\n",
      "ValueError: max_features must be in (0, n_features]\n",
      "\n",
      "  warnings.warn(\"Estimator fit failed. The score on this train-test\"\n",
      "C:\\ProgramData\\Anaconda3\\lib\\site-packages\\sklearn\\model_selection\\_validation.py:610: FitFailedWarning: Estimator fit failed. The score on this train-test partition for these parameters will be set to nan. Details: \n",
      "Traceback (most recent call last):\n",
      "  File \"C:\\ProgramData\\Anaconda3\\lib\\site-packages\\sklearn\\model_selection\\_validation.py\", line 593, in _fit_and_score\n",
      "    estimator.fit(X_train, y_train, **fit_params)\n",
      "  File \"C:\\ProgramData\\Anaconda3\\lib\\site-packages\\sklearn\\ensemble\\_forest.py\", line 387, in fit\n",
      "    trees = Parallel(n_jobs=self.n_jobs, verbose=self.verbose,\n",
      "  File \"C:\\ProgramData\\Anaconda3\\lib\\site-packages\\joblib\\parallel.py\", line 1041, in __call__\n",
      "    if self.dispatch_one_batch(iterator):\n",
      "  File \"C:\\ProgramData\\Anaconda3\\lib\\site-packages\\joblib\\parallel.py\", line 859, in dispatch_one_batch\n",
      "    self._dispatch(tasks)\n",
      "  File \"C:\\ProgramData\\Anaconda3\\lib\\site-packages\\joblib\\parallel.py\", line 777, in _dispatch\n",
      "    job = self._backend.apply_async(batch, callback=cb)\n",
      "  File \"C:\\ProgramData\\Anaconda3\\lib\\site-packages\\joblib\\_parallel_backends.py\", line 208, in apply_async\n",
      "    result = ImmediateResult(func)\n",
      "  File \"C:\\ProgramData\\Anaconda3\\lib\\site-packages\\joblib\\_parallel_backends.py\", line 572, in __init__\n",
      "    self.results = batch()\n",
      "  File \"C:\\ProgramData\\Anaconda3\\lib\\site-packages\\joblib\\parallel.py\", line 262, in __call__\n",
      "    return [func(*args, **kwargs)\n",
      "  File \"C:\\ProgramData\\Anaconda3\\lib\\site-packages\\joblib\\parallel.py\", line 262, in <listcomp>\n",
      "    return [func(*args, **kwargs)\n",
      "  File \"C:\\ProgramData\\Anaconda3\\lib\\site-packages\\sklearn\\utils\\fixes.py\", line 222, in __call__\n",
      "    return self.function(*args, **kwargs)\n",
      "  File \"C:\\ProgramData\\Anaconda3\\lib\\site-packages\\sklearn\\ensemble\\_forest.py\", line 169, in _parallel_build_trees\n",
      "    tree.fit(X, y, sample_weight=curr_sample_weight, check_input=False)\n",
      "  File \"C:\\ProgramData\\Anaconda3\\lib\\site-packages\\sklearn\\tree\\_classes.py\", line 1247, in fit\n",
      "    super().fit(\n",
      "  File \"C:\\ProgramData\\Anaconda3\\lib\\site-packages\\sklearn\\tree\\_classes.py\", line 288, in fit\n",
      "    raise ValueError(\"max_features must be in (0, n_features]\")\n",
      "ValueError: max_features must be in (0, n_features]\n",
      "\n",
      "  warnings.warn(\"Estimator fit failed. The score on this train-test\"\n",
      "C:\\ProgramData\\Anaconda3\\lib\\site-packages\\sklearn\\model_selection\\_validation.py:610: FitFailedWarning: Estimator fit failed. The score on this train-test partition for these parameters will be set to nan. Details: \n",
      "Traceback (most recent call last):\n",
      "  File \"C:\\ProgramData\\Anaconda3\\lib\\site-packages\\sklearn\\model_selection\\_validation.py\", line 593, in _fit_and_score\n",
      "    estimator.fit(X_train, y_train, **fit_params)\n",
      "  File \"C:\\ProgramData\\Anaconda3\\lib\\site-packages\\sklearn\\ensemble\\_forest.py\", line 387, in fit\n",
      "    trees = Parallel(n_jobs=self.n_jobs, verbose=self.verbose,\n",
      "  File \"C:\\ProgramData\\Anaconda3\\lib\\site-packages\\joblib\\parallel.py\", line 1041, in __call__\n",
      "    if self.dispatch_one_batch(iterator):\n",
      "  File \"C:\\ProgramData\\Anaconda3\\lib\\site-packages\\joblib\\parallel.py\", line 859, in dispatch_one_batch\n",
      "    self._dispatch(tasks)\n",
      "  File \"C:\\ProgramData\\Anaconda3\\lib\\site-packages\\joblib\\parallel.py\", line 777, in _dispatch\n",
      "    job = self._backend.apply_async(batch, callback=cb)\n",
      "  File \"C:\\ProgramData\\Anaconda3\\lib\\site-packages\\joblib\\_parallel_backends.py\", line 208, in apply_async\n",
      "    result = ImmediateResult(func)\n",
      "  File \"C:\\ProgramData\\Anaconda3\\lib\\site-packages\\joblib\\_parallel_backends.py\", line 572, in __init__\n",
      "    self.results = batch()\n",
      "  File \"C:\\ProgramData\\Anaconda3\\lib\\site-packages\\joblib\\parallel.py\", line 262, in __call__\n",
      "    return [func(*args, **kwargs)\n",
      "  File \"C:\\ProgramData\\Anaconda3\\lib\\site-packages\\joblib\\parallel.py\", line 262, in <listcomp>\n",
      "    return [func(*args, **kwargs)\n",
      "  File \"C:\\ProgramData\\Anaconda3\\lib\\site-packages\\sklearn\\utils\\fixes.py\", line 222, in __call__\n",
      "    return self.function(*args, **kwargs)\n",
      "  File \"C:\\ProgramData\\Anaconda3\\lib\\site-packages\\sklearn\\ensemble\\_forest.py\", line 169, in _parallel_build_trees\n",
      "    tree.fit(X, y, sample_weight=curr_sample_weight, check_input=False)\n",
      "  File \"C:\\ProgramData\\Anaconda3\\lib\\site-packages\\sklearn\\tree\\_classes.py\", line 1247, in fit\n",
      "    super().fit(\n",
      "  File \"C:\\ProgramData\\Anaconda3\\lib\\site-packages\\sklearn\\tree\\_classes.py\", line 288, in fit\n",
      "    raise ValueError(\"max_features must be in (0, n_features]\")\n",
      "ValueError: max_features must be in (0, n_features]\n",
      "\n",
      "  warnings.warn(\"Estimator fit failed. The score on this train-test\"\n",
      "C:\\ProgramData\\Anaconda3\\lib\\site-packages\\sklearn\\model_selection\\_validation.py:610: FitFailedWarning: Estimator fit failed. The score on this train-test partition for these parameters will be set to nan. Details: \n",
      "Traceback (most recent call last):\n",
      "  File \"C:\\ProgramData\\Anaconda3\\lib\\site-packages\\sklearn\\model_selection\\_validation.py\", line 593, in _fit_and_score\n",
      "    estimator.fit(X_train, y_train, **fit_params)\n",
      "  File \"C:\\ProgramData\\Anaconda3\\lib\\site-packages\\sklearn\\ensemble\\_forest.py\", line 387, in fit\n",
      "    trees = Parallel(n_jobs=self.n_jobs, verbose=self.verbose,\n",
      "  File \"C:\\ProgramData\\Anaconda3\\lib\\site-packages\\joblib\\parallel.py\", line 1041, in __call__\n",
      "    if self.dispatch_one_batch(iterator):\n",
      "  File \"C:\\ProgramData\\Anaconda3\\lib\\site-packages\\joblib\\parallel.py\", line 859, in dispatch_one_batch\n",
      "    self._dispatch(tasks)\n",
      "  File \"C:\\ProgramData\\Anaconda3\\lib\\site-packages\\joblib\\parallel.py\", line 777, in _dispatch\n",
      "    job = self._backend.apply_async(batch, callback=cb)\n",
      "  File \"C:\\ProgramData\\Anaconda3\\lib\\site-packages\\joblib\\_parallel_backends.py\", line 208, in apply_async\n",
      "    result = ImmediateResult(func)\n",
      "  File \"C:\\ProgramData\\Anaconda3\\lib\\site-packages\\joblib\\_parallel_backends.py\", line 572, in __init__\n",
      "    self.results = batch()\n",
      "  File \"C:\\ProgramData\\Anaconda3\\lib\\site-packages\\joblib\\parallel.py\", line 262, in __call__\n",
      "    return [func(*args, **kwargs)\n",
      "  File \"C:\\ProgramData\\Anaconda3\\lib\\site-packages\\joblib\\parallel.py\", line 262, in <listcomp>\n",
      "    return [func(*args, **kwargs)\n",
      "  File \"C:\\ProgramData\\Anaconda3\\lib\\site-packages\\sklearn\\utils\\fixes.py\", line 222, in __call__\n",
      "    return self.function(*args, **kwargs)\n",
      "  File \"C:\\ProgramData\\Anaconda3\\lib\\site-packages\\sklearn\\ensemble\\_forest.py\", line 169, in _parallel_build_trees\n",
      "    tree.fit(X, y, sample_weight=curr_sample_weight, check_input=False)\n",
      "  File \"C:\\ProgramData\\Anaconda3\\lib\\site-packages\\sklearn\\tree\\_classes.py\", line 1247, in fit\n",
      "    super().fit(\n",
      "  File \"C:\\ProgramData\\Anaconda3\\lib\\site-packages\\sklearn\\tree\\_classes.py\", line 288, in fit\n",
      "    raise ValueError(\"max_features must be in (0, n_features]\")\n",
      "ValueError: max_features must be in (0, n_features]\n",
      "\n",
      "  warnings.warn(\"Estimator fit failed. The score on this train-test\"\n",
      "C:\\ProgramData\\Anaconda3\\lib\\site-packages\\sklearn\\model_selection\\_validation.py:610: FitFailedWarning: Estimator fit failed. The score on this train-test partition for these parameters will be set to nan. Details: \n",
      "Traceback (most recent call last):\n",
      "  File \"C:\\ProgramData\\Anaconda3\\lib\\site-packages\\sklearn\\model_selection\\_validation.py\", line 593, in _fit_and_score\n",
      "    estimator.fit(X_train, y_train, **fit_params)\n",
      "  File \"C:\\ProgramData\\Anaconda3\\lib\\site-packages\\sklearn\\ensemble\\_forest.py\", line 387, in fit\n",
      "    trees = Parallel(n_jobs=self.n_jobs, verbose=self.verbose,\n",
      "  File \"C:\\ProgramData\\Anaconda3\\lib\\site-packages\\joblib\\parallel.py\", line 1041, in __call__\n",
      "    if self.dispatch_one_batch(iterator):\n",
      "  File \"C:\\ProgramData\\Anaconda3\\lib\\site-packages\\joblib\\parallel.py\", line 859, in dispatch_one_batch\n",
      "    self._dispatch(tasks)\n",
      "  File \"C:\\ProgramData\\Anaconda3\\lib\\site-packages\\joblib\\parallel.py\", line 777, in _dispatch\n",
      "    job = self._backend.apply_async(batch, callback=cb)\n",
      "  File \"C:\\ProgramData\\Anaconda3\\lib\\site-packages\\joblib\\_parallel_backends.py\", line 208, in apply_async\n",
      "    result = ImmediateResult(func)\n",
      "  File \"C:\\ProgramData\\Anaconda3\\lib\\site-packages\\joblib\\_parallel_backends.py\", line 572, in __init__\n",
      "    self.results = batch()\n",
      "  File \"C:\\ProgramData\\Anaconda3\\lib\\site-packages\\joblib\\parallel.py\", line 262, in __call__\n",
      "    return [func(*args, **kwargs)\n",
      "  File \"C:\\ProgramData\\Anaconda3\\lib\\site-packages\\joblib\\parallel.py\", line 262, in <listcomp>\n",
      "    return [func(*args, **kwargs)\n",
      "  File \"C:\\ProgramData\\Anaconda3\\lib\\site-packages\\sklearn\\utils\\fixes.py\", line 222, in __call__\n",
      "    return self.function(*args, **kwargs)\n",
      "  File \"C:\\ProgramData\\Anaconda3\\lib\\site-packages\\sklearn\\ensemble\\_forest.py\", line 169, in _parallel_build_trees\n",
      "    tree.fit(X, y, sample_weight=curr_sample_weight, check_input=False)\n",
      "  File \"C:\\ProgramData\\Anaconda3\\lib\\site-packages\\sklearn\\tree\\_classes.py\", line 1247, in fit\n",
      "    super().fit(\n",
      "  File \"C:\\ProgramData\\Anaconda3\\lib\\site-packages\\sklearn\\tree\\_classes.py\", line 288, in fit\n",
      "    raise ValueError(\"max_features must be in (0, n_features]\")\n",
      "ValueError: max_features must be in (0, n_features]\n",
      "\n",
      "  warnings.warn(\"Estimator fit failed. The score on this train-test\"\n",
      "C:\\ProgramData\\Anaconda3\\lib\\site-packages\\sklearn\\model_selection\\_validation.py:610: FitFailedWarning: Estimator fit failed. The score on this train-test partition for these parameters will be set to nan. Details: \n",
      "Traceback (most recent call last):\n",
      "  File \"C:\\ProgramData\\Anaconda3\\lib\\site-packages\\sklearn\\model_selection\\_validation.py\", line 593, in _fit_and_score\n",
      "    estimator.fit(X_train, y_train, **fit_params)\n",
      "  File \"C:\\ProgramData\\Anaconda3\\lib\\site-packages\\sklearn\\ensemble\\_forest.py\", line 387, in fit\n",
      "    trees = Parallel(n_jobs=self.n_jobs, verbose=self.verbose,\n",
      "  File \"C:\\ProgramData\\Anaconda3\\lib\\site-packages\\joblib\\parallel.py\", line 1041, in __call__\n",
      "    if self.dispatch_one_batch(iterator):\n",
      "  File \"C:\\ProgramData\\Anaconda3\\lib\\site-packages\\joblib\\parallel.py\", line 859, in dispatch_one_batch\n",
      "    self._dispatch(tasks)\n",
      "  File \"C:\\ProgramData\\Anaconda3\\lib\\site-packages\\joblib\\parallel.py\", line 777, in _dispatch\n",
      "    job = self._backend.apply_async(batch, callback=cb)\n",
      "  File \"C:\\ProgramData\\Anaconda3\\lib\\site-packages\\joblib\\_parallel_backends.py\", line 208, in apply_async\n",
      "    result = ImmediateResult(func)\n",
      "  File \"C:\\ProgramData\\Anaconda3\\lib\\site-packages\\joblib\\_parallel_backends.py\", line 572, in __init__\n",
      "    self.results = batch()\n",
      "  File \"C:\\ProgramData\\Anaconda3\\lib\\site-packages\\joblib\\parallel.py\", line 262, in __call__\n",
      "    return [func(*args, **kwargs)\n",
      "  File \"C:\\ProgramData\\Anaconda3\\lib\\site-packages\\joblib\\parallel.py\", line 262, in <listcomp>\n",
      "    return [func(*args, **kwargs)\n",
      "  File \"C:\\ProgramData\\Anaconda3\\lib\\site-packages\\sklearn\\utils\\fixes.py\", line 222, in __call__\n",
      "    return self.function(*args, **kwargs)\n",
      "  File \"C:\\ProgramData\\Anaconda3\\lib\\site-packages\\sklearn\\ensemble\\_forest.py\", line 169, in _parallel_build_trees\n",
      "    tree.fit(X, y, sample_weight=curr_sample_weight, check_input=False)\n",
      "  File \"C:\\ProgramData\\Anaconda3\\lib\\site-packages\\sklearn\\tree\\_classes.py\", line 1247, in fit\n",
      "    super().fit(\n",
      "  File \"C:\\ProgramData\\Anaconda3\\lib\\site-packages\\sklearn\\tree\\_classes.py\", line 288, in fit\n",
      "    raise ValueError(\"max_features must be in (0, n_features]\")\n",
      "ValueError: max_features must be in (0, n_features]\n",
      "\n",
      "  warnings.warn(\"Estimator fit failed. The score on this train-test\"\n",
      "C:\\ProgramData\\Anaconda3\\lib\\site-packages\\sklearn\\model_selection\\_validation.py:610: FitFailedWarning: Estimator fit failed. The score on this train-test partition for these parameters will be set to nan. Details: \n",
      "Traceback (most recent call last):\n",
      "  File \"C:\\ProgramData\\Anaconda3\\lib\\site-packages\\sklearn\\model_selection\\_validation.py\", line 593, in _fit_and_score\n",
      "    estimator.fit(X_train, y_train, **fit_params)\n",
      "  File \"C:\\ProgramData\\Anaconda3\\lib\\site-packages\\sklearn\\ensemble\\_forest.py\", line 387, in fit\n",
      "    trees = Parallel(n_jobs=self.n_jobs, verbose=self.verbose,\n",
      "  File \"C:\\ProgramData\\Anaconda3\\lib\\site-packages\\joblib\\parallel.py\", line 1041, in __call__\n",
      "    if self.dispatch_one_batch(iterator):\n",
      "  File \"C:\\ProgramData\\Anaconda3\\lib\\site-packages\\joblib\\parallel.py\", line 859, in dispatch_one_batch\n",
      "    self._dispatch(tasks)\n",
      "  File \"C:\\ProgramData\\Anaconda3\\lib\\site-packages\\joblib\\parallel.py\", line 777, in _dispatch\n",
      "    job = self._backend.apply_async(batch, callback=cb)\n",
      "  File \"C:\\ProgramData\\Anaconda3\\lib\\site-packages\\joblib\\_parallel_backends.py\", line 208, in apply_async\n",
      "    result = ImmediateResult(func)\n",
      "  File \"C:\\ProgramData\\Anaconda3\\lib\\site-packages\\joblib\\_parallel_backends.py\", line 572, in __init__\n",
      "    self.results = batch()\n",
      "  File \"C:\\ProgramData\\Anaconda3\\lib\\site-packages\\joblib\\parallel.py\", line 262, in __call__\n",
      "    return [func(*args, **kwargs)\n",
      "  File \"C:\\ProgramData\\Anaconda3\\lib\\site-packages\\joblib\\parallel.py\", line 262, in <listcomp>\n",
      "    return [func(*args, **kwargs)\n",
      "  File \"C:\\ProgramData\\Anaconda3\\lib\\site-packages\\sklearn\\utils\\fixes.py\", line 222, in __call__\n",
      "    return self.function(*args, **kwargs)\n",
      "  File \"C:\\ProgramData\\Anaconda3\\lib\\site-packages\\sklearn\\ensemble\\_forest.py\", line 169, in _parallel_build_trees\n",
      "    tree.fit(X, y, sample_weight=curr_sample_weight, check_input=False)\n",
      "  File \"C:\\ProgramData\\Anaconda3\\lib\\site-packages\\sklearn\\tree\\_classes.py\", line 1247, in fit\n",
      "    super().fit(\n",
      "  File \"C:\\ProgramData\\Anaconda3\\lib\\site-packages\\sklearn\\tree\\_classes.py\", line 288, in fit\n",
      "    raise ValueError(\"max_features must be in (0, n_features]\")\n",
      "ValueError: max_features must be in (0, n_features]\n",
      "\n",
      "  warnings.warn(\"Estimator fit failed. The score on this train-test\"\n",
      "C:\\ProgramData\\Anaconda3\\lib\\site-packages\\sklearn\\model_selection\\_validation.py:610: FitFailedWarning: Estimator fit failed. The score on this train-test partition for these parameters will be set to nan. Details: \n",
      "Traceback (most recent call last):\n",
      "  File \"C:\\ProgramData\\Anaconda3\\lib\\site-packages\\sklearn\\model_selection\\_validation.py\", line 593, in _fit_and_score\n",
      "    estimator.fit(X_train, y_train, **fit_params)\n",
      "  File \"C:\\ProgramData\\Anaconda3\\lib\\site-packages\\sklearn\\ensemble\\_forest.py\", line 387, in fit\n",
      "    trees = Parallel(n_jobs=self.n_jobs, verbose=self.verbose,\n",
      "  File \"C:\\ProgramData\\Anaconda3\\lib\\site-packages\\joblib\\parallel.py\", line 1041, in __call__\n",
      "    if self.dispatch_one_batch(iterator):\n",
      "  File \"C:\\ProgramData\\Anaconda3\\lib\\site-packages\\joblib\\parallel.py\", line 859, in dispatch_one_batch\n",
      "    self._dispatch(tasks)\n",
      "  File \"C:\\ProgramData\\Anaconda3\\lib\\site-packages\\joblib\\parallel.py\", line 777, in _dispatch\n",
      "    job = self._backend.apply_async(batch, callback=cb)\n",
      "  File \"C:\\ProgramData\\Anaconda3\\lib\\site-packages\\joblib\\_parallel_backends.py\", line 208, in apply_async\n",
      "    result = ImmediateResult(func)\n",
      "  File \"C:\\ProgramData\\Anaconda3\\lib\\site-packages\\joblib\\_parallel_backends.py\", line 572, in __init__\n",
      "    self.results = batch()\n",
      "  File \"C:\\ProgramData\\Anaconda3\\lib\\site-packages\\joblib\\parallel.py\", line 262, in __call__\n",
      "    return [func(*args, **kwargs)\n",
      "  File \"C:\\ProgramData\\Anaconda3\\lib\\site-packages\\joblib\\parallel.py\", line 262, in <listcomp>\n",
      "    return [func(*args, **kwargs)\n",
      "  File \"C:\\ProgramData\\Anaconda3\\lib\\site-packages\\sklearn\\utils\\fixes.py\", line 222, in __call__\n",
      "    return self.function(*args, **kwargs)\n",
      "  File \"C:\\ProgramData\\Anaconda3\\lib\\site-packages\\sklearn\\ensemble\\_forest.py\", line 169, in _parallel_build_trees\n",
      "    tree.fit(X, y, sample_weight=curr_sample_weight, check_input=False)\n",
      "  File \"C:\\ProgramData\\Anaconda3\\lib\\site-packages\\sklearn\\tree\\_classes.py\", line 1247, in fit\n",
      "    super().fit(\n",
      "  File \"C:\\ProgramData\\Anaconda3\\lib\\site-packages\\sklearn\\tree\\_classes.py\", line 288, in fit\n",
      "    raise ValueError(\"max_features must be in (0, n_features]\")\n",
      "ValueError: max_features must be in (0, n_features]\n",
      "\n",
      "  warnings.warn(\"Estimator fit failed. The score on this train-test\"\n",
      "C:\\ProgramData\\Anaconda3\\lib\\site-packages\\sklearn\\model_selection\\_validation.py:610: FitFailedWarning: Estimator fit failed. The score on this train-test partition for these parameters will be set to nan. Details: \n",
      "Traceback (most recent call last):\n",
      "  File \"C:\\ProgramData\\Anaconda3\\lib\\site-packages\\sklearn\\model_selection\\_validation.py\", line 593, in _fit_and_score\n",
      "    estimator.fit(X_train, y_train, **fit_params)\n",
      "  File \"C:\\ProgramData\\Anaconda3\\lib\\site-packages\\sklearn\\ensemble\\_forest.py\", line 387, in fit\n",
      "    trees = Parallel(n_jobs=self.n_jobs, verbose=self.verbose,\n",
      "  File \"C:\\ProgramData\\Anaconda3\\lib\\site-packages\\joblib\\parallel.py\", line 1041, in __call__\n",
      "    if self.dispatch_one_batch(iterator):\n",
      "  File \"C:\\ProgramData\\Anaconda3\\lib\\site-packages\\joblib\\parallel.py\", line 859, in dispatch_one_batch\n",
      "    self._dispatch(tasks)\n",
      "  File \"C:\\ProgramData\\Anaconda3\\lib\\site-packages\\joblib\\parallel.py\", line 777, in _dispatch\n",
      "    job = self._backend.apply_async(batch, callback=cb)\n",
      "  File \"C:\\ProgramData\\Anaconda3\\lib\\site-packages\\joblib\\_parallel_backends.py\", line 208, in apply_async\n",
      "    result = ImmediateResult(func)\n",
      "  File \"C:\\ProgramData\\Anaconda3\\lib\\site-packages\\joblib\\_parallel_backends.py\", line 572, in __init__\n",
      "    self.results = batch()\n",
      "  File \"C:\\ProgramData\\Anaconda3\\lib\\site-packages\\joblib\\parallel.py\", line 262, in __call__\n",
      "    return [func(*args, **kwargs)\n",
      "  File \"C:\\ProgramData\\Anaconda3\\lib\\site-packages\\joblib\\parallel.py\", line 262, in <listcomp>\n",
      "    return [func(*args, **kwargs)\n",
      "  File \"C:\\ProgramData\\Anaconda3\\lib\\site-packages\\sklearn\\utils\\fixes.py\", line 222, in __call__\n",
      "    return self.function(*args, **kwargs)\n",
      "  File \"C:\\ProgramData\\Anaconda3\\lib\\site-packages\\sklearn\\ensemble\\_forest.py\", line 169, in _parallel_build_trees\n",
      "    tree.fit(X, y, sample_weight=curr_sample_weight, check_input=False)\n",
      "  File \"C:\\ProgramData\\Anaconda3\\lib\\site-packages\\sklearn\\tree\\_classes.py\", line 1247, in fit\n",
      "    super().fit(\n",
      "  File \"C:\\ProgramData\\Anaconda3\\lib\\site-packages\\sklearn\\tree\\_classes.py\", line 288, in fit\n",
      "    raise ValueError(\"max_features must be in (0, n_features]\")\n",
      "ValueError: max_features must be in (0, n_features]\n",
      "\n",
      "  warnings.warn(\"Estimator fit failed. The score on this train-test\"\n",
      "C:\\ProgramData\\Anaconda3\\lib\\site-packages\\sklearn\\model_selection\\_validation.py:610: FitFailedWarning: Estimator fit failed. The score on this train-test partition for these parameters will be set to nan. Details: \n",
      "Traceback (most recent call last):\n",
      "  File \"C:\\ProgramData\\Anaconda3\\lib\\site-packages\\sklearn\\model_selection\\_validation.py\", line 593, in _fit_and_score\n",
      "    estimator.fit(X_train, y_train, **fit_params)\n",
      "  File \"C:\\ProgramData\\Anaconda3\\lib\\site-packages\\sklearn\\ensemble\\_forest.py\", line 387, in fit\n",
      "    trees = Parallel(n_jobs=self.n_jobs, verbose=self.verbose,\n",
      "  File \"C:\\ProgramData\\Anaconda3\\lib\\site-packages\\joblib\\parallel.py\", line 1041, in __call__\n",
      "    if self.dispatch_one_batch(iterator):\n",
      "  File \"C:\\ProgramData\\Anaconda3\\lib\\site-packages\\joblib\\parallel.py\", line 859, in dispatch_one_batch\n",
      "    self._dispatch(tasks)\n",
      "  File \"C:\\ProgramData\\Anaconda3\\lib\\site-packages\\joblib\\parallel.py\", line 777, in _dispatch\n",
      "    job = self._backend.apply_async(batch, callback=cb)\n",
      "  File \"C:\\ProgramData\\Anaconda3\\lib\\site-packages\\joblib\\_parallel_backends.py\", line 208, in apply_async\n",
      "    result = ImmediateResult(func)\n",
      "  File \"C:\\ProgramData\\Anaconda3\\lib\\site-packages\\joblib\\_parallel_backends.py\", line 572, in __init__\n",
      "    self.results = batch()\n",
      "  File \"C:\\ProgramData\\Anaconda3\\lib\\site-packages\\joblib\\parallel.py\", line 262, in __call__\n",
      "    return [func(*args, **kwargs)\n",
      "  File \"C:\\ProgramData\\Anaconda3\\lib\\site-packages\\joblib\\parallel.py\", line 262, in <listcomp>\n",
      "    return [func(*args, **kwargs)\n",
      "  File \"C:\\ProgramData\\Anaconda3\\lib\\site-packages\\sklearn\\utils\\fixes.py\", line 222, in __call__\n",
      "    return self.function(*args, **kwargs)\n",
      "  File \"C:\\ProgramData\\Anaconda3\\lib\\site-packages\\sklearn\\ensemble\\_forest.py\", line 169, in _parallel_build_trees\n",
      "    tree.fit(X, y, sample_weight=curr_sample_weight, check_input=False)\n",
      "  File \"C:\\ProgramData\\Anaconda3\\lib\\site-packages\\sklearn\\tree\\_classes.py\", line 1247, in fit\n",
      "    super().fit(\n",
      "  File \"C:\\ProgramData\\Anaconda3\\lib\\site-packages\\sklearn\\tree\\_classes.py\", line 288, in fit\n",
      "    raise ValueError(\"max_features must be in (0, n_features]\")\n",
      "ValueError: max_features must be in (0, n_features]\n",
      "\n",
      "  warnings.warn(\"Estimator fit failed. The score on this train-test\"\n",
      "C:\\ProgramData\\Anaconda3\\lib\\site-packages\\sklearn\\model_selection\\_validation.py:610: FitFailedWarning: Estimator fit failed. The score on this train-test partition for these parameters will be set to nan. Details: \n",
      "Traceback (most recent call last):\n",
      "  File \"C:\\ProgramData\\Anaconda3\\lib\\site-packages\\sklearn\\model_selection\\_validation.py\", line 593, in _fit_and_score\n",
      "    estimator.fit(X_train, y_train, **fit_params)\n",
      "  File \"C:\\ProgramData\\Anaconda3\\lib\\site-packages\\sklearn\\ensemble\\_forest.py\", line 387, in fit\n",
      "    trees = Parallel(n_jobs=self.n_jobs, verbose=self.verbose,\n",
      "  File \"C:\\ProgramData\\Anaconda3\\lib\\site-packages\\joblib\\parallel.py\", line 1041, in __call__\n",
      "    if self.dispatch_one_batch(iterator):\n",
      "  File \"C:\\ProgramData\\Anaconda3\\lib\\site-packages\\joblib\\parallel.py\", line 859, in dispatch_one_batch\n",
      "    self._dispatch(tasks)\n",
      "  File \"C:\\ProgramData\\Anaconda3\\lib\\site-packages\\joblib\\parallel.py\", line 777, in _dispatch\n",
      "    job = self._backend.apply_async(batch, callback=cb)\n",
      "  File \"C:\\ProgramData\\Anaconda3\\lib\\site-packages\\joblib\\_parallel_backends.py\", line 208, in apply_async\n",
      "    result = ImmediateResult(func)\n",
      "  File \"C:\\ProgramData\\Anaconda3\\lib\\site-packages\\joblib\\_parallel_backends.py\", line 572, in __init__\n",
      "    self.results = batch()\n",
      "  File \"C:\\ProgramData\\Anaconda3\\lib\\site-packages\\joblib\\parallel.py\", line 262, in __call__\n",
      "    return [func(*args, **kwargs)\n",
      "  File \"C:\\ProgramData\\Anaconda3\\lib\\site-packages\\joblib\\parallel.py\", line 262, in <listcomp>\n",
      "    return [func(*args, **kwargs)\n",
      "  File \"C:\\ProgramData\\Anaconda3\\lib\\site-packages\\sklearn\\utils\\fixes.py\", line 222, in __call__\n",
      "    return self.function(*args, **kwargs)\n",
      "  File \"C:\\ProgramData\\Anaconda3\\lib\\site-packages\\sklearn\\ensemble\\_forest.py\", line 169, in _parallel_build_trees\n",
      "    tree.fit(X, y, sample_weight=curr_sample_weight, check_input=False)\n",
      "  File \"C:\\ProgramData\\Anaconda3\\lib\\site-packages\\sklearn\\tree\\_classes.py\", line 1247, in fit\n",
      "    super().fit(\n",
      "  File \"C:\\ProgramData\\Anaconda3\\lib\\site-packages\\sklearn\\tree\\_classes.py\", line 288, in fit\n",
      "    raise ValueError(\"max_features must be in (0, n_features]\")\n",
      "ValueError: max_features must be in (0, n_features]\n",
      "\n",
      "  warnings.warn(\"Estimator fit failed. The score on this train-test\"\n",
      "C:\\ProgramData\\Anaconda3\\lib\\site-packages\\sklearn\\model_selection\\_validation.py:610: FitFailedWarning: Estimator fit failed. The score on this train-test partition for these parameters will be set to nan. Details: \n",
      "Traceback (most recent call last):\n",
      "  File \"C:\\ProgramData\\Anaconda3\\lib\\site-packages\\sklearn\\model_selection\\_validation.py\", line 593, in _fit_and_score\n",
      "    estimator.fit(X_train, y_train, **fit_params)\n",
      "  File \"C:\\ProgramData\\Anaconda3\\lib\\site-packages\\sklearn\\ensemble\\_forest.py\", line 387, in fit\n",
      "    trees = Parallel(n_jobs=self.n_jobs, verbose=self.verbose,\n",
      "  File \"C:\\ProgramData\\Anaconda3\\lib\\site-packages\\joblib\\parallel.py\", line 1041, in __call__\n",
      "    if self.dispatch_one_batch(iterator):\n",
      "  File \"C:\\ProgramData\\Anaconda3\\lib\\site-packages\\joblib\\parallel.py\", line 859, in dispatch_one_batch\n",
      "    self._dispatch(tasks)\n",
      "  File \"C:\\ProgramData\\Anaconda3\\lib\\site-packages\\joblib\\parallel.py\", line 777, in _dispatch\n",
      "    job = self._backend.apply_async(batch, callback=cb)\n",
      "  File \"C:\\ProgramData\\Anaconda3\\lib\\site-packages\\joblib\\_parallel_backends.py\", line 208, in apply_async\n",
      "    result = ImmediateResult(func)\n",
      "  File \"C:\\ProgramData\\Anaconda3\\lib\\site-packages\\joblib\\_parallel_backends.py\", line 572, in __init__\n",
      "    self.results = batch()\n",
      "  File \"C:\\ProgramData\\Anaconda3\\lib\\site-packages\\joblib\\parallel.py\", line 262, in __call__\n",
      "    return [func(*args, **kwargs)\n",
      "  File \"C:\\ProgramData\\Anaconda3\\lib\\site-packages\\joblib\\parallel.py\", line 262, in <listcomp>\n",
      "    return [func(*args, **kwargs)\n",
      "  File \"C:\\ProgramData\\Anaconda3\\lib\\site-packages\\sklearn\\utils\\fixes.py\", line 222, in __call__\n",
      "    return self.function(*args, **kwargs)\n",
      "  File \"C:\\ProgramData\\Anaconda3\\lib\\site-packages\\sklearn\\ensemble\\_forest.py\", line 169, in _parallel_build_trees\n",
      "    tree.fit(X, y, sample_weight=curr_sample_weight, check_input=False)\n",
      "  File \"C:\\ProgramData\\Anaconda3\\lib\\site-packages\\sklearn\\tree\\_classes.py\", line 1247, in fit\n",
      "    super().fit(\n",
      "  File \"C:\\ProgramData\\Anaconda3\\lib\\site-packages\\sklearn\\tree\\_classes.py\", line 288, in fit\n",
      "    raise ValueError(\"max_features must be in (0, n_features]\")\n",
      "ValueError: max_features must be in (0, n_features]\n",
      "\n",
      "  warnings.warn(\"Estimator fit failed. The score on this train-test\"\n",
      "C:\\ProgramData\\Anaconda3\\lib\\site-packages\\sklearn\\model_selection\\_validation.py:610: FitFailedWarning: Estimator fit failed. The score on this train-test partition for these parameters will be set to nan. Details: \n",
      "Traceback (most recent call last):\n",
      "  File \"C:\\ProgramData\\Anaconda3\\lib\\site-packages\\sklearn\\model_selection\\_validation.py\", line 593, in _fit_and_score\n",
      "    estimator.fit(X_train, y_train, **fit_params)\n",
      "  File \"C:\\ProgramData\\Anaconda3\\lib\\site-packages\\sklearn\\ensemble\\_forest.py\", line 387, in fit\n",
      "    trees = Parallel(n_jobs=self.n_jobs, verbose=self.verbose,\n",
      "  File \"C:\\ProgramData\\Anaconda3\\lib\\site-packages\\joblib\\parallel.py\", line 1041, in __call__\n",
      "    if self.dispatch_one_batch(iterator):\n",
      "  File \"C:\\ProgramData\\Anaconda3\\lib\\site-packages\\joblib\\parallel.py\", line 859, in dispatch_one_batch\n",
      "    self._dispatch(tasks)\n",
      "  File \"C:\\ProgramData\\Anaconda3\\lib\\site-packages\\joblib\\parallel.py\", line 777, in _dispatch\n",
      "    job = self._backend.apply_async(batch, callback=cb)\n",
      "  File \"C:\\ProgramData\\Anaconda3\\lib\\site-packages\\joblib\\_parallel_backends.py\", line 208, in apply_async\n",
      "    result = ImmediateResult(func)\n",
      "  File \"C:\\ProgramData\\Anaconda3\\lib\\site-packages\\joblib\\_parallel_backends.py\", line 572, in __init__\n",
      "    self.results = batch()\n",
      "  File \"C:\\ProgramData\\Anaconda3\\lib\\site-packages\\joblib\\parallel.py\", line 262, in __call__\n",
      "    return [func(*args, **kwargs)\n",
      "  File \"C:\\ProgramData\\Anaconda3\\lib\\site-packages\\joblib\\parallel.py\", line 262, in <listcomp>\n",
      "    return [func(*args, **kwargs)\n",
      "  File \"C:\\ProgramData\\Anaconda3\\lib\\site-packages\\sklearn\\utils\\fixes.py\", line 222, in __call__\n",
      "    return self.function(*args, **kwargs)\n",
      "  File \"C:\\ProgramData\\Anaconda3\\lib\\site-packages\\sklearn\\ensemble\\_forest.py\", line 169, in _parallel_build_trees\n",
      "    tree.fit(X, y, sample_weight=curr_sample_weight, check_input=False)\n",
      "  File \"C:\\ProgramData\\Anaconda3\\lib\\site-packages\\sklearn\\tree\\_classes.py\", line 1247, in fit\n",
      "    super().fit(\n",
      "  File \"C:\\ProgramData\\Anaconda3\\lib\\site-packages\\sklearn\\tree\\_classes.py\", line 288, in fit\n",
      "    raise ValueError(\"max_features must be in (0, n_features]\")\n",
      "ValueError: max_features must be in (0, n_features]\n",
      "\n",
      "  warnings.warn(\"Estimator fit failed. The score on this train-test\"\n",
      "C:\\ProgramData\\Anaconda3\\lib\\site-packages\\sklearn\\model_selection\\_validation.py:610: FitFailedWarning: Estimator fit failed. The score on this train-test partition for these parameters will be set to nan. Details: \n",
      "Traceback (most recent call last):\n",
      "  File \"C:\\ProgramData\\Anaconda3\\lib\\site-packages\\sklearn\\model_selection\\_validation.py\", line 593, in _fit_and_score\n",
      "    estimator.fit(X_train, y_train, **fit_params)\n",
      "  File \"C:\\ProgramData\\Anaconda3\\lib\\site-packages\\sklearn\\ensemble\\_forest.py\", line 387, in fit\n",
      "    trees = Parallel(n_jobs=self.n_jobs, verbose=self.verbose,\n",
      "  File \"C:\\ProgramData\\Anaconda3\\lib\\site-packages\\joblib\\parallel.py\", line 1041, in __call__\n",
      "    if self.dispatch_one_batch(iterator):\n",
      "  File \"C:\\ProgramData\\Anaconda3\\lib\\site-packages\\joblib\\parallel.py\", line 859, in dispatch_one_batch\n",
      "    self._dispatch(tasks)\n",
      "  File \"C:\\ProgramData\\Anaconda3\\lib\\site-packages\\joblib\\parallel.py\", line 777, in _dispatch\n",
      "    job = self._backend.apply_async(batch, callback=cb)\n",
      "  File \"C:\\ProgramData\\Anaconda3\\lib\\site-packages\\joblib\\_parallel_backends.py\", line 208, in apply_async\n",
      "    result = ImmediateResult(func)\n",
      "  File \"C:\\ProgramData\\Anaconda3\\lib\\site-packages\\joblib\\_parallel_backends.py\", line 572, in __init__\n",
      "    self.results = batch()\n",
      "  File \"C:\\ProgramData\\Anaconda3\\lib\\site-packages\\joblib\\parallel.py\", line 262, in __call__\n",
      "    return [func(*args, **kwargs)\n",
      "  File \"C:\\ProgramData\\Anaconda3\\lib\\site-packages\\joblib\\parallel.py\", line 262, in <listcomp>\n",
      "    return [func(*args, **kwargs)\n",
      "  File \"C:\\ProgramData\\Anaconda3\\lib\\site-packages\\sklearn\\utils\\fixes.py\", line 222, in __call__\n",
      "    return self.function(*args, **kwargs)\n",
      "  File \"C:\\ProgramData\\Anaconda3\\lib\\site-packages\\sklearn\\ensemble\\_forest.py\", line 169, in _parallel_build_trees\n",
      "    tree.fit(X, y, sample_weight=curr_sample_weight, check_input=False)\n",
      "  File \"C:\\ProgramData\\Anaconda3\\lib\\site-packages\\sklearn\\tree\\_classes.py\", line 1247, in fit\n",
      "    super().fit(\n",
      "  File \"C:\\ProgramData\\Anaconda3\\lib\\site-packages\\sklearn\\tree\\_classes.py\", line 288, in fit\n",
      "    raise ValueError(\"max_features must be in (0, n_features]\")\n",
      "ValueError: max_features must be in (0, n_features]\n",
      "\n",
      "  warnings.warn(\"Estimator fit failed. The score on this train-test\"\n"
     ]
    },
    {
     "name": "stderr",
     "output_type": "stream",
     "text": [
      "C:\\ProgramData\\Anaconda3\\lib\\site-packages\\sklearn\\model_selection\\_search.py:918: UserWarning: One or more of the test scores are non-finite: [-0.31873083 -0.25803577 -0.24376807 -0.31727551 -0.26580688 -0.25054106\n",
      " -0.31690724 -0.27033226 -0.25426573         nan         nan         nan\n",
      " -0.32036893 -0.27233829 -0.32928428 -0.2774178  -0.34648151 -0.28517189]\n",
      "  warnings.warn(\n",
      "C:\\ProgramData\\Anaconda3\\lib\\site-packages\\sklearn\\model_selection\\_search.py:918: UserWarning: One or more of the train scores are non-finite: [-0.08022131 -0.04667699 -0.03747805 -0.08063676 -0.04741628 -0.03841632\n",
      " -0.08000518 -0.0480424  -0.03875311         nan         nan         nan\n",
      " -0.00098181 -0.00098181 -0.00098181 -0.00098181 -0.00098181 -0.00098181]\n",
      "  warnings.warn(\n"
     ]
    },
    {
     "data": {
      "text/plain": [
       "GridSearchCV(cv=5, estimator=RandomForestRegressor(),\n",
       "             param_grid=[{'max_features': [2, 4, 6, 8],\n",
       "                          'n_estimators': [3, 10, 30]},\n",
       "                         {'bootstrap': [False], 'max_features': [2, 3, 4],\n",
       "                          'n_estimators': [3, 10]}],\n",
       "             return_train_score=True, scoring='neg_mean_squared_error')"
      ]
     },
     "execution_count": 52,
     "metadata": {},
     "output_type": "execute_result"
    }
   ],
   "source": [
    "from sklearn.model_selection import GridSearchCV\n",
    "param_grid = [\n",
    "    # try 12 (3×4) combinations of hyperparameters\n",
    " {'n_estimators': [3, 10, 30], 'max_features': [2, 4, 6, 8]},\n",
    "    # then try 6 (2×3) combinations with bootstrap set as False\n",
    " {'bootstrap': [False], 'n_estimators': [3, 10], 'max_features': [2, 3, 4]},\n",
    " ]\n",
    "\n",
    "forest_reg = RandomForestRegressor()\n",
    "grid_search = GridSearchCV(forest_reg, param_grid, cv=5,\n",
    " scoring='neg_mean_squared_error',\n",
    "return_train_score=True)\n",
    "grid_search.fit(train_X, train_Y)"
   ]
  },
  {
   "cell_type": "code",
   "execution_count": 53,
   "id": "f44e67a5",
   "metadata": {},
   "outputs": [
    {
     "data": {
      "text/plain": [
       "{'max_features': 2, 'n_estimators': 30}"
      ]
     },
     "execution_count": 53,
     "metadata": {},
     "output_type": "execute_result"
    }
   ],
   "source": [
    "forest_best_para = grid_search.best_params_\n",
    "forest_best_para"
   ]
  },
  {
   "cell_type": "code",
   "execution_count": 54,
   "id": "dfa495ee",
   "metadata": {},
   "outputs": [
    {
     "name": "stdout",
     "output_type": "stream",
     "text": [
      "0.5645625142473607 {'max_features': 2, 'n_estimators': 3}\n",
      "0.5079722160007245 {'max_features': 2, 'n_estimators': 10}\n",
      "0.493728738246942 {'max_features': 2, 'n_estimators': 30}\n",
      "0.5632721447607366 {'max_features': 4, 'n_estimators': 3}\n",
      "0.5155646227060852 {'max_features': 4, 'n_estimators': 10}\n",
      "0.5005407669730142 {'max_features': 4, 'n_estimators': 30}\n",
      "0.5629451511071681 {'max_features': 6, 'n_estimators': 3}\n",
      "0.5199348628845861 {'max_features': 6, 'n_estimators': 10}\n",
      "0.504247687875446 {'max_features': 6, 'n_estimators': 30}\n",
      "nan {'max_features': 8, 'n_estimators': 3}\n",
      "nan {'max_features': 8, 'n_estimators': 10}\n",
      "nan {'max_features': 8, 'n_estimators': 30}\n",
      "0.566011421319627 {'bootstrap': False, 'max_features': 2, 'n_estimators': 3}\n",
      "0.5218604110663391 {'bootstrap': False, 'max_features': 2, 'n_estimators': 10}\n",
      "0.5738329728882241 {'bootstrap': False, 'max_features': 3, 'n_estimators': 3}\n",
      "0.5267046566081296 {'bootstrap': False, 'max_features': 3, 'n_estimators': 10}\n",
      "0.5886267970949265 {'bootstrap': False, 'max_features': 4, 'n_estimators': 3}\n",
      "0.5340148747480805 {'bootstrap': False, 'max_features': 4, 'n_estimators': 10}\n"
     ]
    }
   ],
   "source": [
    "cvres = grid_search.cv_results_\n",
    "\n",
    "for mean_score, params in zip(cvres[\"mean_test_score\"], cvres[\"params\"]):\n",
    "    print(np.sqrt(-mean_score), params)"
   ]
  },
  {
   "cell_type": "markdown",
   "id": "8c8dcf90",
   "metadata": {},
   "source": [
    "**RF Classifier**"
   ]
  },
  {
   "cell_type": "markdown",
   "id": "78f3b583",
   "metadata": {},
   "source": [
    "from sklearn.model_selection import GridSearchCV\n",
    "param_grid = [\n",
    "    # try 12 (3×4) combinations of hyperparameters\n",
    " {'n_estimators': [3, 10, 30], 'max_features': [2, 4, 6, 8]},\n",
    "    # then try 6 (2×3) combinations with bootstrap set as False\n",
    " {'bootstrap': [False], 'n_estimators': [3, 10], 'max_features': [2, 3, 4]},\n",
    " ]\n",
    "\n",
    "forest_reg = RandomForestRegressor()\n",
    "grid_search = GridSearchCV(forest_reg, param_grid, cv=5,\n",
    " scoring='neg_mean_squared_error',\n",
    "return_train_score=True)\n",
    "grid_search.fit(train_X, train_Y)"
   ]
  },
  {
   "cell_type": "markdown",
   "id": "00f6b43a",
   "metadata": {},
   "source": [
    "# ACCURACY SCORE ON TEST SET - 89.94"
   ]
  },
  {
   "cell_type": "markdown",
   "id": "4af3158b",
   "metadata": {},
   "source": [
    "## Decision Tree"
   ]
  },
  {
   "cell_type": "code",
   "execution_count": 56,
   "id": "9c99f6a1",
   "metadata": {
    "scrolled": true
   },
   "outputs": [
    {
     "name": "stdout",
     "output_type": "stream",
     "text": [
      "tree_MSE = 0.3053007135575943\n",
      "tree_RMSE = 0.5525402370484834\n",
      "tree_Accuracy_Score = 0.8751274209989807\n"
     ]
    }
   ],
   "source": [
    "from sklearn.metrics import accuracy_score\n",
    "from sklearn.metrics import roc_auc_score\n",
    "\n",
    "y_pred = tree_best_para.predict(test_X)\n",
    "accuracy = accuracy_score(test_Y, y_pred)\n",
    "\n",
    "mse = mean_squared_error(test_Y, y_pred)\n",
    "rmse = np.sqrt(mse)\n",
    "\n",
    "print(\"tree_MSE =\", mse)\n",
    "print(\"tree_RMSE =\", rmse)\n",
    "print(\"tree_Accuracy_Score =\", accuracy)"
   ]
  },
  {
   "cell_type": "markdown",
   "id": "68f87e9d",
   "metadata": {},
   "source": [
    "**Confidence interval**"
   ]
  },
  {
   "cell_type": "markdown",
   "id": "c1ec1149",
   "metadata": {},
   "source": [
    "Lets compute a 95% confidence interval for the test RMSE:"
   ]
  },
  {
   "cell_type": "markdown",
   "id": "cfc3c861",
   "metadata": {},
   "source": [
    "## Random Forest Regressor"
   ]
  },
  {
   "cell_type": "code",
   "execution_count": 57,
   "id": "4f70de97",
   "metadata": {},
   "outputs": [
    {
     "name": "stdout",
     "output_type": "stream",
     "text": [
      "forest_MSE = 0.242300557308223\n",
      "forest_RMSE = 0.4922403450634893\n"
     ]
    }
   ],
   "source": [
    "from sklearn.metrics import accuracy_score\n",
    "\n",
    "y_pred = grid_search.best_estimator_.predict(test_X)\n",
    "# accuracy = accuracy_score(test_Y, y_pred)\n",
    "\n",
    "#print(\"forest_Accuracy_Score =\", accuracy)\n",
    "mse = mean_squared_error(test_Y, y_pred)\n",
    "rmse = np.sqrt(mse)\n",
    "\n",
    "print(\"forest_MSE =\", mse)\n",
    "print(\"forest_RMSE =\", rmse)\n",
    "#print(\"forest_Accuracy_Score =\", accuracy)"
   ]
  },
  {
   "cell_type": "code",
   "execution_count": 102,
   "id": "e1608172",
   "metadata": {},
   "outputs": [
    {
     "name": "stdout",
     "output_type": "stream",
     "text": [
      "Model Performance\n",
      "Average Error: 0.2707 degrees.\n",
      "Accuracy = -inf%.\n"
     ]
    }
   ],
   "source": [
    "def evaluate(model, test_features, test_labels):\n",
    "    predictions = model.predict(test_features)\n",
    "    errors = abs(predictions - test_labels)\n",
    "    mape = 100 * np.mean(errors / test_labels)\n",
    "    accuracy = 100 - mape\n",
    "    print('Model Performance')\n",
    "    print('Average Error: {:0.4f} degrees.'.format(np.mean(errors)))\n",
    "    print('Accuracy = {:0.2f}%.'.format(accuracy))\n",
    "    #print(errors)\n",
    "    #print(test_labels/errors)\n",
    "    \n",
    "    \n",
    "    return accuracy\n",
    "\n",
    "# accuracy\n",
    "best_grid= grid_search.best_estimator_\n",
    "forest_accuracy = evaluate(best_grid, test_X, test_Y)"
   ]
  },
  {
   "cell_type": "markdown",
   "id": "d558c3bb",
   "metadata": {},
   "source": [
    "## Random Forest Classifier"
   ]
  },
  {
   "cell_type": "code",
   "execution_count": 101,
   "id": "d5d16092",
   "metadata": {},
   "outputs": [
    {
     "data": {
      "text/plain": [
       "array([0.87619412, 0.87390141, 0.87160871])"
      ]
     },
     "execution_count": 101,
     "metadata": {},
     "output_type": "execute_result"
    }
   ],
   "source": [
    "from sklearn.model_selection import cross_val_score\n",
    "\n",
    "cross_val_score(forest_clf, \n",
    "                train_X, \n",
    "                train_Y, \n",
    "                cv=3, \n",
    "                scoring=\"accuracy\")"
   ]
  },
  {
   "cell_type": "markdown",
   "id": "76bffa86",
   "metadata": {},
   "source": [
    "You need to present your solution (highlighting what you have learned, what worked and what did not, what assumptions were made, and what your system’s limitations are), document everything, and create\n",
    "nice presentations with clear visualizations and easy-to-remember statements (e.g., “the median income is the number one predictor of housing prices”). \n",
    "\n",
    "In this California housing example, the final performance of the system is not better than the experts’ price estimates, which were often off by about 20%, but it may still be a good idea to launch it, especially if this frees up some time for the experts so they can work on more interesting and productive tasks."
   ]
  },
  {
   "cell_type": "markdown",
   "id": "1f1a6e2d",
   "metadata": {},
   "source": [
    "The F1 score favors classifiers that have similar precision and recall. This is not always what you want: in some contexts you mostly care about precision, and in other contexts you really care about recall."
   ]
  }
 ],
 "metadata": {
  "kernelspec": {
   "display_name": "Python 3",
   "language": "python",
   "name": "python3"
  },
  "language_info": {
   "codemirror_mode": {
    "name": "ipython",
    "version": 3
   },
   "file_extension": ".py",
   "mimetype": "text/x-python",
   "name": "python",
   "nbconvert_exporter": "python",
   "pygments_lexer": "ipython3",
   "version": "3.8.8"
  }
 },
 "nbformat": 4,
 "nbformat_minor": 5
}
