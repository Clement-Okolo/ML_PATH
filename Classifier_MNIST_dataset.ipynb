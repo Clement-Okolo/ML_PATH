{
 "cells": [
  {
   "cell_type": "markdown",
   "id": "d3b75a58",
   "metadata": {},
   "source": [
    "# Number Classification Using the MNIST Dataset\n",
    "\n",
    "This notebook contains sample code to classify digits using the MNIST Dataset and the solutions to **Chapter 3 assignment.**\n",
    "\n",
    "**About Dataset:**\n",
    "\n",
    "The MNIST dataset contains 70,000 small images of digits handwritten by high school students and employees of the US Census Bureau. Each image is labeled with the digit it represents.\n",
    "\n",
    "**Credit:**\n",
    "\n",
    "O'Reilly book Hands-on Machine Learning with Scikit-Learn, Keras and TensorFlow"
   ]
  },
  {
   "cell_type": "markdown",
   "id": "41f0cba9",
   "metadata": {},
   "source": [
    "# Libraries"
   ]
  },
  {
   "cell_type": "code",
   "execution_count": 1,
   "id": "fb0682b2",
   "metadata": {},
   "outputs": [],
   "source": [
    "#sklearn\n",
    "from sklearn.datasets import fetch_openml\n",
    "from sklearn.linear_model import SGDClassifier\n",
    "from sklearn.model_selection import StratifiedKFold\n",
    "from sklearn.base import clone\n",
    "\n",
    "# matplotlib\n",
    "import matplotlib as mpl\n",
    "import matplotlib.pyplot as plt\n",
    "mpl.rc('axes', labelsize=14)\n",
    "mpl.rc('xtick', labelsize=12)\n",
    "mpl.rc('ytick', labelsize=12)\n",
    "\n",
    "# numpy and os\n",
    "import numpy as np\n",
    "import os\n",
    "\n",
    "# to make this notebook's output stable across runs\n",
    "np.random.seed(42)"
   ]
  },
  {
   "cell_type": "markdown",
   "id": "4bb313a3",
   "metadata": {},
   "source": [
    "# Import Dataset"
   ]
  },
  {
   "cell_type": "code",
   "execution_count": 2,
   "id": "ba981679",
   "metadata": {},
   "outputs": [
    {
     "data": {
      "text/plain": [
       "dict_keys(['data', 'target', 'frame', 'categories', 'feature_names', 'target_names', 'DESCR', 'details', 'url'])"
      ]
     },
     "execution_count": 2,
     "metadata": {},
     "output_type": "execute_result"
    }
   ],
   "source": [
    "mnist = fetch_openml('mnist_784', version=1, as_frame= False)\n",
    "\n",
    "mnist.keys()  # print dictionary keys"
   ]
  },
  {
   "cell_type": "markdown",
   "id": "452dc117",
   "metadata": {},
   "source": [
    "Datasets loaded by `Scikit-Learn` generally have a similar dictionary structure including:\n",
    "\n",
    "• A `DESCR` key describing the dataset\n",
    "\n",
    "• A `data` key containing an array with one row per instance and one column per feature\n",
    "\n",
    "• A `target` key containing an array with the labels\n"
   ]
  },
  {
   "cell_type": "markdown",
   "id": "49e667e8",
   "metadata": {},
   "source": [
    "# Quick Look at Data Structure"
   ]
  },
  {
   "cell_type": "code",
   "execution_count": 3,
   "id": "c24e16a1",
   "metadata": {},
   "outputs": [],
   "source": [
    "# assign the data to X and labels to y\n",
    "\n",
    "X, y = mnist[\"data\"], mnist[\"target\"]"
   ]
  },
  {
   "cell_type": "code",
   "execution_count": 4,
   "id": "59358457",
   "metadata": {},
   "outputs": [
    {
     "data": {
      "text/plain": [
       "(70000, 784)"
      ]
     },
     "execution_count": 4,
     "metadata": {},
     "output_type": "execute_result"
    }
   ],
   "source": [
    "# print the number of rows and columns in the dataset\n",
    "X.shape"
   ]
  },
  {
   "cell_type": "markdown",
   "id": "83822620",
   "metadata": {},
   "source": [
    "**Interpretation:**\n",
    "\n",
    "    \n",
    "This means that there are 70000 images (instances) and 784 (attributes)"
   ]
  },
  {
   "cell_type": "code",
   "execution_count": 5,
   "id": "ade6674c",
   "metadata": {},
   "outputs": [
    {
     "data": {
      "text/plain": [
       "(70000,)"
      ]
     },
     "execution_count": 5,
     "metadata": {},
     "output_type": "execute_result"
    }
   ],
   "source": [
    "# print the number of rows and columns in the label\n",
    "y.shape"
   ]
  },
  {
   "cell_type": "markdown",
   "id": "1b925bc2",
   "metadata": {},
   "source": [
    "**Interpretation:**\n",
    "\n",
    "\n",
    "This means that there are labels for the entire 70000 images (instances). But no other attribute column in the label."
   ]
  },
  {
   "cell_type": "code",
   "execution_count": 6,
   "id": "24f87bf9",
   "metadata": {},
   "outputs": [
    {
     "data": {
      "image/png": "[encoded data removed]",
      "text/plain": [
       "<Figure size 432x288 with 1 Axes>"
      ]
     },
     "metadata": {
      "needs_background": "light"
     },
     "output_type": "display_data"
    }
   ],
   "source": [
    "# View 1-digit\n",
    "some_digit = X[0]\n",
    "some_digit_image = some_digit.reshape(28, 28)\n",
    "\n",
    "# Use Matplotlib's `imshow()` \n",
    "plt.imshow(some_digit_image, cmap = \"binary\")\n",
    "plt.axis(\"off\")\n",
    "plt.show()"
   ]
  },
  {
   "cell_type": "code",
   "execution_count": 7,
   "id": "7676125c",
   "metadata": {},
   "outputs": [
    {
     "data": {
      "text/plain": [
       "'5'"
      ]
     },
     "execution_count": 7,
     "metadata": {},
     "output_type": "execute_result"
    }
   ],
   "source": [
    "# label\n",
    "y[0]"
   ]
  },
  {
   "cell_type": "markdown",
   "id": "338eef4d",
   "metadata": {},
   "source": [
    "Apparently, the label is a string. Let’s covert y to integers since we prefer to work with numbers."
   ]
  },
  {
   "cell_type": "code",
   "execution_count": 8,
   "id": "e14424bd",
   "metadata": {},
   "outputs": [
    {
     "data": {
      "text/plain": [
       "5"
      ]
     },
     "execution_count": 8,
     "metadata": {},
     "output_type": "execute_result"
    }
   ],
   "source": [
    "y = y.astype(np.uint8)\n",
    "\n",
    "y[0]"
   ]
  },
  {
   "cell_type": "markdown",
   "id": "c6cfce58",
   "metadata": {},
   "source": [
    "# Create at Test Set"
   ]
  },
  {
   "cell_type": "markdown",
   "id": "0d35fd39",
   "metadata": {},
   "source": [
    "The MNIST dataset is actually already split into:\n",
    "\n",
    "    a training set (the first 60,000 images) \n",
    "\n",
    "    and a test set (the last 10,000 images):"
   ]
  },
  {
   "cell_type": "code",
   "execution_count": 9,
   "id": "92fdb2e1",
   "metadata": {},
   "outputs": [],
   "source": [
    "# create a train and test set for both the data and label\n",
    "\n",
    "X_train, X_test, y_train, y_test = X[:60000], X[60000:], y[:60000], y[60000:]"
   ]
  },
  {
   "cell_type": "markdown",
   "id": "a2aaf571",
   "metadata": {},
   "source": [
    "Some learning algorithms are sensitive to the order of the training instances, and they perform poorly if they get many similar instances in a row. Shuffling the dataset ensures that this won’t happen.\n",
    "\n",
    "The training set is already shuffled for us, which is good as this guarantees that all cross-validation folds will be similar (you don’t want one fold to be missing some digits)."
   ]
  },
  {
   "cell_type": "markdown",
   "id": "0db9fdd9",
   "metadata": {},
   "source": [
    "# Training a Binary Classifier \n",
    "## (5-detector)"
   ]
  },
  {
   "cell_type": "markdown",
   "id": "3d38d87e",
   "metadata": {},
   "source": [
    "This “5-detector” will be an example of a binary classifier, capable of\n",
    "distinguishing between just two classes, 5 and not-5"
   ]
  },
  {
   "cell_type": "code",
   "execution_count": 10,
   "id": "f69468b4",
   "metadata": {},
   "outputs": [],
   "source": [
    "# create target vectors for the classifier\n",
    "y_train_5 = (y_train == 5) # True for all 5s, False for all other digits.\n",
    "y_test_5 = (y_test == 5)"
   ]
  },
  {
   "cell_type": "markdown",
   "id": "1dfb217a",
   "metadata": {},
   "source": [
    "# SELECT AND TRAIN A MODEL"
   ]
  },
  {
   "cell_type": "markdown",
   "id": "da56314e",
   "metadata": {},
   "source": [
    "## Stochastic Gradient Descent (SGD) classifier\n",
    "\n",
    "This classifier has the advantage of being capable of handling very large datasets efficiently. This is in part because SGD deals with training instances independently, one at a time (which also makes SGD well suited for online learning).\n",
    "\n",
    "The SGDClassifier relies on randomness during training (hence the name “stochastic”). If you want reproducible results, you should set the random_state parameter."
   ]
  },
  {
   "cell_type": "code",
   "execution_count": 11,
   "id": "c47e09e0",
   "metadata": {},
   "outputs": [
    {
     "data": {
      "text/plain": [
       "SGDClassifier(random_state=42)"
      ]
     },
     "execution_count": 11,
     "metadata": {},
     "output_type": "execute_result"
    }
   ],
   "source": [
    "#  create an SGDClassifier and \n",
    "sgd_clf = SGDClassifier(random_state=42)\n",
    "\n",
    "# train on the `whole training set` (X and y)\n",
    "sgd_clf.fit(X_train, y_train_5)"
   ]
  },
  {
   "cell_type": "code",
   "execution_count": 12,
   "id": "3cb39247",
   "metadata": {},
   "outputs": [
    {
     "data": {
      "text/plain": [
       "array([ True])"
      ]
     },
     "execution_count": 12,
     "metadata": {},
     "output_type": "execute_result"
    }
   ],
   "source": [
    "# predict `5` or `not 5`\n",
    "sgd_clf.predict([some_digit])"
   ]
  },
  {
   "cell_type": "markdown",
   "id": "c63a511a",
   "metadata": {},
   "source": [
    "# MEASURING ACCURACY"
   ]
  },
  {
   "cell_type": "markdown",
   "id": "a2b279e3",
   "metadata": {},
   "source": [
    "## Cross-Validation (StratifiedKFold)\n",
    "\n",
    "The following code does roughly the same thing as Scikit Learn’s `cross_val_score()` function, and it prints the same result:"
   ]
  },
  {
   "cell_type": "code",
   "execution_count": 13,
   "id": "df0d8926",
   "metadata": {},
   "outputs": [
    {
     "name": "stdout",
     "output_type": "stream",
     "text": [
      "0.9669\n",
      "0.91625\n",
      "0.96785\n"
     ]
    }
   ],
   "source": [
    "skfolds = StratifiedKFold(n_splits=3, shuffle = True, random_state=42)\n",
    "\n",
    "for train_index, test_index in skfolds.split(X_train, y_train_5):\n",
    "    clone_clf = clone(sgd_clf)\n",
    "    X_train_folds = X_train[train_index]\n",
    "    y_train_folds = y_train_5[train_index]\n",
    "    X_test_fold = X_train[test_index]\n",
    "    y_test_fold = y_train_5[test_index]\n",
    "    \n",
    "    clone_clf.fit(X_train_folds, y_train_folds)\n",
    "    y_pred = clone_clf.predict(X_test_fold)\n",
    "    n_correct = sum(y_pred == y_test_fold)\n",
    "    print(n_correct / len(y_pred)) # prints 0.9502, 0.96565, and 0.96495"
   ]
  },
  {
   "cell_type": "markdown",
   "id": "26bc7135",
   "metadata": {},
   "source": [
    "The `StratifiedKFold` class performs stratified sampling to produce folds that contain a representative ratio of each class. At each iteration the code creates a clone of the classifier, trains that clone on the training folds, and makes predictions on the test fold. Then it counts the number of correct predictions and outputs the ratio of correct predictions."
   ]
  },
  {
   "cell_type": "markdown",
   "id": "c75c4f36",
   "metadata": {},
   "source": [
    "## Alternatively, \n",
    "## Cross-Validation (cross_val_score)"
   ]
  },
  {
   "cell_type": "code",
   "execution_count": 14,
   "id": "dd35732c",
   "metadata": {},
   "outputs": [
    {
     "data": {
      "text/plain": [
       "array([0.95035, 0.96035, 0.9604 ])"
      ]
     },
     "execution_count": 14,
     "metadata": {},
     "output_type": "execute_result"
    }
   ],
   "source": [
    "from sklearn.model_selection import cross_val_score\n",
    "cross_val_score(sgd_clf, X_train, y_train_5, cv=3, scoring=\"accuracy\")\n"
   ]
  },
  {
   "cell_type": "markdown",
   "id": "305d23d8",
   "metadata": {},
   "source": [
    "This uses the `cross_val_score()` function to evaluate our `SGDClassifier model`, using K-fold cross-validation with three folds. Remember that K-fold cross-validation means splitting the training set into K folds (in this case, three), then making predictions and evaluating them on each fold using a model trained on the remaining folds.\n",
    "\n",
    "**Accuracy above 95%** (ratio of correct predictions) on the 3 cross-validation folds looks impressive!\n",
    "\n",
    "But before you get too excited, let’s look at a very dumb classifier that just **classifies every single image in the “not-5” class**"
   ]
  },
  {
   "cell_type": "code",
   "execution_count": 15,
   "id": "494a242d",
   "metadata": {},
   "outputs": [],
   "source": [
    "from sklearn.base import BaseEstimator\n",
    "\n",
    "class Never5Classifier(BaseEstimator):\n",
    "    def fit(self, X, y=None):\n",
    "        return self\n",
    "    def predict(self, X):\n",
    "        return np.zeros((len(X), 1), dtype=bool)\n"
   ]
  },
  {
   "cell_type": "code",
   "execution_count": 16,
   "id": "34c59a02",
   "metadata": {},
   "outputs": [
    {
     "data": {
      "text/plain": [
       "array([0.91125, 0.90855, 0.90915])"
      ]
     },
     "execution_count": 16,
     "metadata": {},
     "output_type": "execute_result"
    }
   ],
   "source": [
    "# measure accuracy of the dumb classifier\n",
    "never_5_clf = Never5Classifier()\n",
    "cross_val_score(never_5_clf, X_train, y_train_5, cv=3, scoring=\"accuracy\")"
   ]
  },
  {
   "cell_type": "markdown",
   "id": "bca1531c",
   "metadata": {},
   "source": [
    "**Interpretation:**\n",
    "\n",
    "**It has over 90% accuracy** because `only about 10% of the images are 5s`, so if you always guess that an image is not a 5, you will be right about 90% of the time. Beats Nostradamus.\n",
    "\n",
    "This demonstrates why `accuracy` is generally not the preferred performance measure for classifiers, especially when you are dealing with `skewed datasets` (i.e., when some classes are much more frequent than others)"
   ]
  },
  {
   "cell_type": "markdown",
   "id": "7a9bcae6",
   "metadata": {},
   "source": [
    "## Confusion Matrix"
   ]
  },
  {
   "cell_type": "markdown",
   "id": "70433855",
   "metadata": {},
   "source": [
    "This is arguably the best method to evaluate the performance of a `classifier`. `Confusion matrix` counts the number of times instances of `class A` are classified as `class B`.\n",
    "\n",
    "To compute the confusion matrix, you **first need to have a set of predictions** `so that they can be compared to the actual targets`. \n",
    "\n",
    "You could make predictions on the test set, but let’s keep it untouched for now (remember that you want to use the test set only at the very end of your project, once you have a classifier that you are ready to\n",
    "launch). Instead, you can use the `cross_val_predict()` function:\n"
   ]
  },
  {
   "cell_type": "code",
   "execution_count": 17,
   "id": "327a7302",
   "metadata": {},
   "outputs": [
    {
     "data": {
      "text/plain": [
       "array([ True, False, False, ...,  True, False, False])"
      ]
     },
     "execution_count": 17,
     "metadata": {},
     "output_type": "execute_result"
    }
   ],
   "source": [
    "# create predictions using `cross_val_predict`\n",
    "\n",
    "from sklearn.model_selection import cross_val_predict\n",
    "y_train_pred = cross_val_predict(sgd_clf, X_train, y_train_5, cv=3)\n",
    "\n",
    "y_train_pred"
   ]
  },
  {
   "cell_type": "markdown",
   "id": "8773c6b9",
   "metadata": {},
   "source": [
    "## `cross_val_score() function` Vs `cross_val_predict()`\n",
    "\n",
    "Both `cross_val_score()` and `cross_val_predict()` function performs **K-fold cross-validation**, but instead of returning the evaluation scores, it returns the predictions made on each test fold. \n",
    "\n",
    "This means that you get a `clean` prediction for each instance in the training set (“clean” meaning that the prediction is made by a model that never saw the data during training).\n"
   ]
  },
  {
   "cell_type": "code",
   "execution_count": 18,
   "id": "b0d6b143",
   "metadata": {},
   "outputs": [
    {
     "data": {
      "text/plain": [
       "array([[53892,   687],\n",
       "       [ 1891,  3530]], dtype=int64)"
      ]
     },
     "execution_count": 18,
     "metadata": {},
     "output_type": "execute_result"
    }
   ],
   "source": [
    "# print confusion matrix\n",
    "\n",
    "from sklearn.metrics import confusion_matrix\n",
    "confusion_matrix(y_train_5, y_train_pred)"
   ]
  },
  {
   "cell_type": "markdown",
   "id": "69750377",
   "metadata": {},
   "source": [
    "**Interpretation:**\n",
    "\n",
    "Each row in a confusion matrix represents an actual class, while each column represents a predicted class. The first row of this matrix considers non-5 images (the negative class): 53,892 of them were correctly classified as non-5s (they are called true negatives), while the remaining 687 were wrongly classified as 5s (false positives).\n",
    "\n",
    "\n",
    "The second row considers the images of 5s (the positive class): 1,891 were wrongly classified as non-5s (false negatives), while the remaining 3,530 were correctly classified as 5s (true positives). \n",
    "\n",
    "**A perfect classifier would have only true positives and true negatives, so its confusion matrix would have nonzero values only on its main diagonal (top left to bottom right).**"
   ]
  },
  {
   "cell_type": "code",
   "execution_count": 19,
   "id": "66db7405",
   "metadata": {},
   "outputs": [
    {
     "data": {
      "text/plain": [
       "array([[54579,     0],\n",
       "       [    0,  5421]], dtype=int64)"
      ]
     },
     "execution_count": 19,
     "metadata": {},
     "output_type": "execute_result"
    }
   ],
   "source": [
    "# let's pretend to have a perfect prediction\n",
    "\n",
    "y_train_perfect_predictions = y_train_5      # pretend we reached perfection\n",
    "confusion_matrix(y_train_5, y_train_perfect_predictions)\n"
   ]
  },
  {
   "cell_type": "markdown",
   "id": "0f304643",
   "metadata": {},
   "source": [
    "# Precision and Recall of positive predictions"
   ]
  },
  {
   "cell_type": "markdown",
   "id": "a403ef2b",
   "metadata": {},
   "source": [
    "The confusion matrix gives you a lot of information, but sometimes you may prefer a more concise metric for the positive predictions. \n",
    "\n",
    "   1. `Precision`: This is the accuracy of the positive predictions; this is called the **precision of the classifier.**\n",
    "   2. `Recall`: This is the ratio of positive instances that are correctly detected by the classifier; this is also called **sensitivity or the true positive rate (TPR)** \n",
    "   \n",
    "A trivial way to have perfect precision is to make one single positive prediction and ensure it is correct (precision = 1/1 = 100%). But this would not be very useful, since the classifier would ignore all but one positive instance. So precision is typically used along with another metric named recall."
   ]
  },
  {
   "cell_type": "code",
   "execution_count": 20,
   "id": "8b02fe19",
   "metadata": {},
   "outputs": [
    {
     "data": {
      "text/plain": [
       "0.8370879772350012"
      ]
     },
     "execution_count": 20,
     "metadata": {},
     "output_type": "execute_result"
    }
   ],
   "source": [
    "# compute the precision and recall metrics of classifier\n",
    "from sklearn.metrics import precision_score, recall_score\n",
    "\n",
    "# precision score\n",
    "precision_score(y_train_5, y_train_pred) # == 3530 / (3530 + 687)"
   ]
  },
  {
   "cell_type": "code",
   "execution_count": 21,
   "id": "0333e835",
   "metadata": {},
   "outputs": [
    {
     "data": {
      "text/plain": [
       "0.6511713705958311"
      ]
     },
     "execution_count": 21,
     "metadata": {},
     "output_type": "execute_result"
    }
   ],
   "source": [
    "# classifier score\n",
    "recall_score(y_train_5, y_train_pred) # == 3530 / (3530 + 687)"
   ]
  },
  {
   "cell_type": "markdown",
   "id": "c91db06e",
   "metadata": {},
   "source": [
    "**Interpretation:**\n",
    "\n",
    "Now your 5-detector does not look as shiny as it did when you looked at its accuracy.\n",
    "\n",
    "When it claims an image represents a 5, it is correct only 83.7% of the time. Moreover, it only detects 65.1% of the 5s."
   ]
  },
  {
   "cell_type": "markdown",
   "id": "a2033c6b",
   "metadata": {},
   "source": [
    "## Harmonic mean of Precision and Recall (F1-Score)"
   ]
  },
  {
   "cell_type": "markdown",
   "id": "db367424",
   "metadata": {},
   "source": [
    "It is often convenient to combine precision and recall into a single metric called the F1 score, in particular if you need a simple way to compare two classifiers. The F1 score is the harmonic mean of precision and recall. Whereas the regular mean treats all values equally, the harmonic mean gives much more weight to low values. As a result, the classifier will only get a high F1 score if both recall and precision are high."
   ]
  },
  {
   "cell_type": "code",
   "execution_count": 22,
   "id": "b923e255",
   "metadata": {},
   "outputs": [
    {
     "data": {
      "text/plain": [
       "0.7325171197343846"
      ]
     },
     "execution_count": 22,
     "metadata": {},
     "output_type": "execute_result"
    }
   ],
   "source": [
    "# compute F1 score\n",
    "\n",
    "from sklearn.metrics import f1_score\n",
    "f1_score(y_train_5, y_train_pred)"
   ]
  },
  {
   "cell_type": "markdown",
   "id": "2e3dfe89",
   "metadata": {},
   "source": [
    "**The F1 score favors classifiers that have similar precision and recall**. This is not always what you want: in some contexts you mostly care about precision, and in other contexts you really care about recall. "
   ]
  },
  {
   "cell_type": "markdown",
   "id": "ad8292d8",
   "metadata": {},
   "source": [
    "## Precision/Recall Trade-off\n",
    "\n",
    "Unfortunately, increasing precision reduces recall, and vice versa; this is called the `precision/recall trade-off`.\n",
    "\n",
    "`Scikit-Learn` will not allow us to set a `threshold` directly, but it does give you access to the `decision scores` that it uses to make predictions.\n",
    "\n",
    "Instead of calling the classifier’s `predict() method`, you can call its `decision_function()` method, which returns a\n",
    "score for each instance, and then use any threshold you want to make predictions based on those scores:\n"
   ]
  },
  {
   "cell_type": "code",
   "execution_count": 23,
   "id": "c72b6013",
   "metadata": {},
   "outputs": [
    {
     "data": {
      "text/plain": [
       "array([2164.22030239])"
      ]
     },
     "execution_count": 23,
     "metadata": {},
     "output_type": "execute_result"
    }
   ],
   "source": [
    "# find decision score\n",
    "\n",
    "y_scores = sgd_clf.decision_function([some_digit])\n",
    "y_scores"
   ]
  },
  {
   "cell_type": "code",
   "execution_count": 24,
   "id": "8206ac1e",
   "metadata": {},
   "outputs": [
    {
     "data": {
      "text/plain": [
       "array([ True])"
      ]
     },
     "execution_count": 24,
     "metadata": {},
     "output_type": "execute_result"
    }
   ],
   "source": [
    "# Use threshold = 0 for classifier\n",
    "\n",
    "threshold = 0\n",
    "y_some_digit_pred = (y_scores > threshold)\n",
    "y_some_digit_pred"
   ]
  },
  {
   "cell_type": "markdown",
   "id": "d91d9bbe",
   "metadata": {},
   "source": [
    "**Interpretation:**\n",
    "\n",
    "The `SGDClassifier` uses a `threshold equal to 0`, so the code returns the same result as the `predict()` method (i.e., True)."
   ]
  },
  {
   "cell_type": "code",
   "execution_count": 25,
   "id": "374c5580",
   "metadata": {},
   "outputs": [
    {
     "data": {
      "text/plain": [
       "array([False])"
      ]
     },
     "execution_count": 25,
     "metadata": {},
     "output_type": "execute_result"
    }
   ],
   "source": [
    "# Increase classifier threshold\n",
    "\n",
    "threshold = 8000\n",
    "y_some_digit_pred = (y_scores > threshold)\n",
    "y_some_digit_pred"
   ]
  },
  {
   "cell_type": "markdown",
   "id": "209973da",
   "metadata": {},
   "source": [
    "**Interpretation:**\n",
    "\n",
    "The `SGDClassifier` uses a `threshold equal to 8,000`, so the code returns the opposite result as the `predict()` method (i.e., False).\n",
    "\n",
    "This confirms that `raising the threshold decreases recall`. **The image actually represents a 5, and the classifier detects it when the threshold is 0, but it misses it when the threshold is increased to 8,000.**"
   ]
  },
  {
   "cell_type": "markdown",
   "id": "f075f0ef",
   "metadata": {},
   "source": [
    "**HOW TO DECIDE WHICH THRESHOLD TO USE?**\n",
    "\n",
    "1. First, use the `cross_val_predict()` function `to get the scores of all instances in the training set`, **but this time specify that you want to return `decision scores` instead of `predictions`:**\n"
   ]
  },
  {
   "cell_type": "code",
   "execution_count": 26,
   "id": "6ba4ea2b",
   "metadata": {},
   "outputs": [
    {
     "data": {
      "text/plain": [
       "array([  1200.93051237, -26883.79202424, -33072.03475406, ...,\n",
       "        13272.12718981,  -7258.47203373, -16877.50840447])"
      ]
     },
     "execution_count": 26,
     "metadata": {},
     "output_type": "execute_result"
    }
   ],
   "source": [
    "# compute the decision scores for all instances (rows) in the training set\n",
    "y_scores = cross_val_predict(sgd_clf, \n",
    "                             X_train, \n",
    "                             y_train_5, \n",
    "                             cv=3, \n",
    "                             method=\"decision_function\")\n",
    "y_scores"
   ]
  },
  {
   "cell_type": "markdown",
   "id": "ecb60252",
   "metadata": {},
   "source": [
    "2. Now let's use the `y_score` and `precision_recall_curve()` function to compute `precision` and `recall` for all possible thresholds:"
   ]
  },
  {
   "cell_type": "code",
   "execution_count": 27,
   "id": "d6037b61",
   "metadata": {},
   "outputs": [],
   "source": [
    "# compute `precision` and `recall` for all thresolds\n",
    "\n",
    "from sklearn.metrics import precision_recall_curve\n",
    "\n",
    "precisions, recalls, thresholds = precision_recall_curve(y_train_5, y_scores)"
   ]
  },
  {
   "cell_type": "markdown",
   "id": "9ca65c86",
   "metadata": {},
   "source": [
    "3. Finally, use Matplotlib to plot `precision` and `recall` as functions of the `threshold value`"
   ]
  },
  {
   "cell_type": "code",
   "execution_count": 32,
   "id": "1ec46961",
   "metadata": {},
   "outputs": [
    {
     "data": {
      "image/png": "[encoded data removed]",
      "text/plain": [
       "<Figure size 432x288 with 1 Axes>"
      ]
     },
     "metadata": {
      "needs_background": "light"
     },
     "output_type": "display_data"
    }
   ],
   "source": [
    "def plot_precision_recall_vs_threshold(precisions, recalls, thresholds):\n",
    "    plt.plot(thresholds, precisions[:-1], \"b--\", label=\"Precision\")\n",
    "    plt.plot(thresholds, recalls[:-1], \"g-\", label=\"Recall\")\n",
    "    plt.legend(loc=\"center right\", fontsize=16)\n",
    "    plt.xlabel(\"Threshold\", fontsize=16) \n",
    "    plt.grid(True)                          \n",
    "    plt.axis([-50000, 50000, 0, 1]) \n",
    "\n",
    "recall_90_precision = recalls[np.argmax(precisions >= 0.90)]\n",
    "threshold_90_precision = thresholds[np.argmax(precisions >= 0.90)]\n",
    "\n",
    "plot_precision_recall_vs_threshold(precisions, recalls, thresholds)\n",
    "\n",
    "plt.plot([threshold_90_precision, threshold_90_precision], [0., 0.9], \"r:\")                \n",
    "plt.plot([-50000, threshold_90_precision], [0.9, 0.9], \"r:\")                               \n",
    "plt.plot([-50000, threshold_90_precision], [recall_90_precision, recall_90_precision], \"r:\")\n",
    "plt.plot([threshold_90_precision], [0.9], \"ro\")                                             \n",
    "plt.plot([threshold_90_precision], [recall_90_precision], \"ro\")                           \n",
    "\n",
    "plt.title(\"Precision and recall versus the decision threshold\")\n",
    "plt.show()"
   ]
  },
  {
   "cell_type": "code",
   "execution_count": 29,
   "id": "2950cf24",
   "metadata": {},
   "outputs": [
    {
     "ename": "NameError",
     "evalue": "name 'k' is not defined",
     "output_type": "error",
     "traceback": [
      "\u001b[1;31m---------------------------------------------------------------------------\u001b[0m",
      "\u001b[1;31mNameError\u001b[0m                                 Traceback (most recent call last)",
      "\u001b[1;32m<ipython-input-29-141b3ea3f03f>\u001b[0m in \u001b[0;36m<module>\u001b[1;34m\u001b[0m\n\u001b[1;32m----> 1\u001b[1;33m \u001b[0mk\u001b[0m\u001b[1;33m\u001b[0m\u001b[1;33m\u001b[0m\u001b[0m\n\u001b[0m",
      "\u001b[1;31mNameError\u001b[0m: name 'k' is not defined"
     ]
    }
   ],
   "source": [
    "k"
   ]
  },
  {
   "cell_type": "code",
   "execution_count": null,
   "id": "22f6aff8",
   "metadata": {},
   "outputs": [],
   "source": []
  },
  {
   "cell_type": "code",
   "execution_count": null,
   "id": "6aab5d6e",
   "metadata": {},
   "outputs": [],
   "source": []
  },
  {
   "cell_type": "markdown",
   "id": "5659b614",
   "metadata": {},
   "source": [
    "# Assignment 2"
   ]
  },
  {
   "cell_type": "markdown",
   "id": "e4b05d5e",
   "metadata": {},
   "source": [
    "# 1."
   ]
  },
  {
   "cell_type": "markdown",
   "id": "0b5d45da",
   "metadata": {},
   "source": [
    "Try to build a classifier for the MNIST dataset that achieves over 97% accuracy on the test set. Hint: the KNeighborsClassifier works quite well for this task; you just need to find good hyperparameter values (try a grid search on the weights and n_neighbors hyperparameters)."
   ]
  },
  {
   "cell_type": "code",
   "execution_count": null,
   "id": "dbfd86d0",
   "metadata": {},
   "outputs": [],
   "source": []
  },
  {
   "cell_type": "markdown",
   "id": "5fed37db",
   "metadata": {},
   "source": [
    "# 2."
   ]
  },
  {
   "cell_type": "markdown",
   "id": "986e78e0",
   "metadata": {},
   "source": [
    "Write a function that can shift an MNIST image in any direction (left, right, up, or down) by one pixel.5 Then, for each image in the training set, create four shifted copies (one per direction) and add them to the training set. Finally, train your best model on this expanded training set and measure its accuracy on the test set.\n",
    "You should observe that your model performs even better now! This technique of artificially growing the training set is called data augmentation or training set expansion."
   ]
  },
  {
   "cell_type": "code",
   "execution_count": null,
   "id": "3132afb2",
   "metadata": {},
   "outputs": [],
   "source": []
  },
  {
   "cell_type": "markdown",
   "id": "3c13d370",
   "metadata": {},
   "source": [
    "# 3."
   ]
  },
  {
   "cell_type": "markdown",
   "id": "5221fe28",
   "metadata": {},
   "source": [
    "Tackle the Titanic dataset. A great place to start is on Kaggle."
   ]
  },
  {
   "cell_type": "code",
   "execution_count": null,
   "id": "0ad58a82",
   "metadata": {},
   "outputs": [],
   "source": []
  },
  {
   "cell_type": "markdown",
   "id": "339cc958",
   "metadata": {},
   "source": [
    "# 4."
   ]
  },
  {
   "cell_type": "markdown",
   "id": "7320d88c",
   "metadata": {},
   "source": [
    "Build a spam classifier (a more challenging exercise):\n",
    "    \n",
    "    • Download examples of spam and ham from Apache SpamAssassin’s public datasets.\n",
    "    \n",
    "    • Unzip the datasets and familiarize yourself with the data format.\n",
    "    \n",
    "    • Split the datasets into a training set and a test set.\n",
    "    \n",
    "    • Write a data preparation pipeline to convert each email into a feature vector. Your preparation pipeline should transform an email into a (sparse) vector indicating the presence or absence of each possible word. For example, if all emails only ever contain four words, “Hello,” “how,” “are,” “you,” then the email “Hello you Hello Hello you” would be converted into a vector [1, 0, 0, 1] (meaning [“Hello” is present, “how” is absent, “are” is absent, “you” is present]), or [3, 0, 0, 2] if you prefer to count the number of occurrences of each word.\n",
    "    \n",
    "    • You may want to add hyperparameters to your preparation pipeline to control whether or not to strip off email headers, convert each email to lowercase, remove punctuation, replace all URLs with “URL,” replace all numbers with “NUMBER,” or even perform stemming (i.e., trim off word endings; there are Python libraries available to do this).\n",
    "    \n",
    "    • Then try out several classifiers and see if you can build a great spam classifier, with both high recall and high precision."
   ]
  },
  {
   "cell_type": "code",
   "execution_count": null,
   "id": "86ff79fc",
   "metadata": {},
   "outputs": [],
   "source": []
  }
 ],
 "metadata": {
  "kernelspec": {
   "display_name": "Python 3",
   "language": "python",
   "name": "python3"
  },
  "language_info": {
   "codemirror_mode": {
    "name": "ipython",
    "version": 3
   },
   "file_extension": ".py",
   "mimetype": "text/x-python",
   "name": "python",
   "nbconvert_exporter": "python",
   "pygments_lexer": "ipython3",
   "version": "3.8.8"
  }
 },
 "nbformat": 4,
 "nbformat_minor": 5
}
