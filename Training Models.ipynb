{
 "cells": [
  {
   "cell_type": "markdown",
   "id": "4c27fa1a",
   "metadata": {},
   "source": [
    "# Training Models"
   ]
  },
  {
   "cell_type": "markdown",
   "id": "fc86cf6d",
   "metadata": {},
   "source": [
    "This notebook contains sample code and the **solutions to Chapter 4 assignment.**\n",
    "\n",
    "Credit: O'Reilly book Hands-on Machine Learning with Scikit-Learn, Keras and TensorFlow"
   ]
  },
  {
   "cell_type": "markdown",
   "id": "edbe01f9",
   "metadata": {},
   "source": [
    "## Set-up"
   ]
  },
  {
   "cell_type": "code",
   "execution_count": 1,
   "id": "c14dd56f",
   "metadata": {},
   "outputs": [],
   "source": [
    "# Python ≥3.5 is required\n",
    "import sys\n",
    "assert sys.version_info >= (3, 5)\n",
    "\n",
    "# Scikit-Learn ≥0.20 is required\n",
    "import sklearn\n",
    "assert sklearn.__version__ >= \"0.20\"\n",
    "\n",
    "# Common imports\n",
    "import numpy as np\n",
    "import os\n",
    "\n",
    "# to make this notebook's output stable across runs\n",
    "np.random.seed(42)\n",
    "\n",
    "# To plot pretty figures\n",
    "%matplotlib inline\n",
    "import matplotlib as mpl\n",
    "import matplotlib.pyplot as plt\n",
    "mpl.rc('axes', labelsize=14)\n",
    "mpl.rc('xtick', labelsize=12)\n",
    "mpl.rc('ytick', labelsize=12)"
   ]
  },
  {
   "cell_type": "code",
   "execution_count": null,
   "id": "7cb856f7",
   "metadata": {},
   "outputs": [],
   "source": []
  },
  {
   "cell_type": "code",
   "execution_count": null,
   "id": "571aff73",
   "metadata": {},
   "outputs": [],
   "source": []
  },
  {
   "cell_type": "code",
   "execution_count": null,
   "id": "f2eb044b",
   "metadata": {},
   "outputs": [],
   "source": []
  },
  {
   "cell_type": "code",
   "execution_count": null,
   "id": "519585c4",
   "metadata": {},
   "outputs": [],
   "source": []
  },
  {
   "cell_type": "code",
   "execution_count": null,
   "id": "520fe7b1",
   "metadata": {},
   "outputs": [],
   "source": []
  },
  {
   "cell_type": "markdown",
   "id": "f69b545f",
   "metadata": {},
   "source": [
    "# Assignment"
   ]
  },
  {
   "cell_type": "markdown",
   "id": "e3dd6c6e",
   "metadata": {},
   "source": [
    "## 1.\n",
    "\n",
    "Which Linear Regression training algorithm can you use if you have a training\n",
    "set with millions of features?"
   ]
  },
  {
   "cell_type": "markdown",
   "id": "5af6cc73",
   "metadata": {},
   "source": [
    "Answer:\n",
    "\n",
    "If you have a training set with millions of features you can use Stochastic Gradi‐\n",
    "ent Descent or Mini-batch Gradient Descent, and perhaps Batch Gradient\n",
    "Descent if the training set fits in memory. But you cannot use the Normal Equa‐\n",
    "tion or the SVD approach because the computational complexity grows quickly\n",
    "(more than quadratically) with the number of features"
   ]
  },
  {
   "cell_type": "markdown",
   "id": "bc914f25",
   "metadata": {},
   "source": [
    "## 2.\n",
    "\n",
    "Suppose the features in your training set have very different scales. Which algorithms might suffer from this, and how? What can you do about it?"
   ]
  },
  {
   "cell_type": "markdown",
   "id": "b42eda90",
   "metadata": {},
   "source": [
    "Answer:\n",
    "\n",
    "If the features in your training set have very different scales, the cost function will\n",
    "have the shape of an elongated bowl, so the Gradient Descent algorithms will take\n",
    "a long time to converge. To solve this you should scale the data before training\n",
    "the model. Note that the Normal Equation or SVD approach will work just fine\n",
    "without scaling. Moreover, regularized models may converge to a suboptimal sol‐\n",
    "ution if the features are not scaled: since regularization penalizes large weights,\n",
    "features with smaller values will tend to be ignored compared to features with\n",
    "larger values"
   ]
  },
  {
   "cell_type": "markdown",
   "id": "24426d8c",
   "metadata": {},
   "source": [
    "3.\n",
    "\n",
    "Can Gradient Descent get stuck in a local minimum when training a Logistic\n",
    "Regression model?"
   ]
  },
  {
   "cell_type": "markdown",
   "id": "9a018652",
   "metadata": {},
   "source": [
    "Answer:\n",
    "\n",
    "Gradient Descent cannot get stuck in a local minimum when training a Logistic Regression model because the cost function is convex."
   ]
  },
  {
   "cell_type": "markdown",
   "id": "ce30f973",
   "metadata": {},
   "source": [
    "4.\n",
    "\n",
    "Do all Gradient Descent algorithms lead to the same model, provided you let\n",
    "them run long enough?"
   ]
  },
  {
   "cell_type": "markdown",
   "id": "d79611d5",
   "metadata": {},
   "source": [
    "Answer:\n",
    "\n",
    "If the optimization problem is convex (such as Linear Regression or Logistic\n",
    "Regression), and assuming the learning rate is not too high, then all Gradient\n",
    "Descent algorithms will approach the global optimum and end up producing\n",
    "fairly similar models. However, unless you gradually reduce the learning rate,\n",
    "Stochastic GD and Mini-batch GD will never truly converge; instead, they will\n",
    "keep jumping back and forth around the global optimum. This means that even\n",
    "if you let them run for a very long time, these Gradient Descent algorithms will\n",
    "produce slightly different models.\n"
   ]
  },
  {
   "cell_type": "markdown",
   "id": "295c44b2",
   "metadata": {},
   "source": [
    "5.\n",
    "\n",
    "Suppose you use Batch Gradient Descent and you plot the validation error at\n",
    "every epoch. If you notice that the validation error consistently goes up, what is\n",
    "likely going on? How can you fix this?"
   ]
  },
  {
   "cell_type": "markdown",
   "id": "87e51b52",
   "metadata": {},
   "source": [
    "Answer:\n",
    "\n",
    "If the validation error consistently goes up after every epoch, then one possibility\n",
    "is that the learning rate is too high and the algorithm is diverging. If the training\n",
    "error also goes up, then this is clearly the problem and you should reduce the\n",
    "learning rate. However, if the training error is not going up, then your model is\n",
    "overfitting the training set and you should stop training."
   ]
  },
  {
   "cell_type": "markdown",
   "id": "60b2c17e",
   "metadata": {},
   "source": [
    "6.\n",
    "\n",
    "Is it a good idea to stop Mini-batch Gradient Descent immediately when the vali‐\n",
    "dation error goes up?"
   ]
  },
  {
   "cell_type": "markdown",
   "id": "e09d82bf",
   "metadata": {},
   "source": [
    "Answer:\n",
    "\n",
    "Due to their random nature, neither Stochastic Gradient Descent nor Mini-batch\n",
    "Gradient Descent is guaranteed to make progress at every single training itera‐\n",
    "tion. So if you immediately stop training when the validation error goes up, you\n",
    "may stop much too early, before the optimum is reached. A better option is to\n",
    "save the model at regular intervals; then, when it has not improved for a long\n",
    "time (meaning it will probably never beat the record), you can revert to the best\n",
    "saved model."
   ]
  },
  {
   "cell_type": "markdown",
   "id": "d6455424",
   "metadata": {},
   "source": [
    "7.\n",
    "\n",
    "Which Gradient Descent algorithm (among those we discussed) will reach the\n",
    "vicinity of the optimal solution the fastest? Which will actually converge? How\n",
    "can you make the others converge as well?"
   ]
  },
  {
   "cell_type": "markdown",
   "id": "f4c2390d",
   "metadata": {},
   "source": [
    "Answer:\n",
    "\n",
    "Stochastic Gradient Descent has the fastest training iteration since it considers\n",
    "only one training instance at a time, so it is generally the first to reach the vicinity\n",
    "of the global optimum (or Mini-batch GD with a very small mini-batch size).\n",
    "However, only Batch Gradient Descent will actually converge, given enough\n",
    "training time. As mentioned, Stochastic GD and Mini-batch GD will bounce\n",
    "around the optimum, unless you gradually reduce the learning rate"
   ]
  },
  {
   "cell_type": "markdown",
   "id": "cb50b5f5",
   "metadata": {},
   "source": [
    "8.\n",
    "\n",
    "Suppose you are using Polynomial Regression. You plot the learning curves and\n",
    "you notice that there is a large gap between the training error and the validation\n",
    "error. What is happening? What are three ways to solve this?"
   ]
  },
  {
   "cell_type": "markdown",
   "id": "4d6793b6",
   "metadata": {},
   "source": [
    "Answer:\n",
    "\n",
    "If the validation error is much higher than the training error, this is likely because\n",
    "your model is overfitting the training set. One way to try to fix this is to reduce\n",
    "the polynomial degree: a model with fewer degrees of freedom is less likely to\n",
    "overfit. Another thing you can try is to regularize the model—for example, by\n",
    "adding an ℓ2\n",
    " penalty (Ridge) or an ℓ1\n",
    " penalty (Lasso) to the cost function. This\n",
    "will also reduce the degrees of freedom of the model. Lastly, you can try to\n",
    "increase the size of the training set."
   ]
  },
  {
   "cell_type": "markdown",
   "id": "42ebf953",
   "metadata": {},
   "source": [
    "# 9.\n",
    "\n",
    "Suppose you are using Ridge Regression and you notice that the training error\n",
    "and the validation error are almost equal and fairly high. Would you say that the\n",
    "model suffers from high bias or high variance? Should you increase the regularization hyperparameter α or reduce it?"
   ]
  },
  {
   "cell_type": "markdown",
   "id": "e9c5777a",
   "metadata": {},
   "source": [
    "Answer:\n",
    "\n",
    "If both the training error and the validation error are almost equal and fairly\n",
    "high, the model is likely underfitting the training set, which means it has a high\n",
    "bias. You should try reducing the regularization hyperparameter α."
   ]
  },
  {
   "cell_type": "markdown",
   "id": "79e9c0be",
   "metadata": {},
   "source": [
    "# 10. \n",
    "\n",
    "Why would you want to use:\n",
    "\n",
    "a. Ridge Regression instead of plain Linear Regression (i.e., without any regula‐\n",
    "rization)?\n",
    "\n",
    "b. Lasso instead of Ridge Regression?\n",
    "\n",
    "c. Elastic Net instead of Lasso?"
   ]
  },
  {
   "cell_type": "markdown",
   "id": "82dc7f26",
   "metadata": {},
   "source": [
    "Answer:\n",
    "\n",
    "a) A model with some regularization typically performs better than a model\n",
    "without any regularization, so you should generally prefer Ridge Regression over plain Linear Regression.\n",
    "\n",
    "b) Lasso Regression uses an ℓ1\n",
    " penalty, which tends to push the weights down to\n",
    "exactly zero. This leads to sparse models, where all weights are zero except for\n",
    "the most important weights. This is a way to perform feature selection auto‐\n",
    "matically, which is good if you suspect that only a few features actually matter.\n",
    "When you are not sure, you should prefer Ridge Regression.\n",
    "\n",
    "c) Elastic Net is generally preferred over Lasso since Lasso may behave erratically\n",
    "in some cases (when several features are strongly correlated or when there are\n",
    "more features than training instances). However, it does add an extra hyper‐\n",
    "parameter to tune. If you want Lasso without the erratic behavior, you can just\n",
    "use Elastic Net with an l1_ratio close to 1."
   ]
  },
  {
   "cell_type": "markdown",
   "id": "f7bd67f4",
   "metadata": {},
   "source": [
    "# 11.\n",
    "\n",
    "Suppose you want to classify pictures as outdoor/indoor and daytime/nighttime.\n",
    "Should you implement two Logistic Regression classifiers or one Softmax Regression classifier?"
   ]
  },
  {
   "cell_type": "markdown",
   "id": "82fbc429",
   "metadata": {},
   "source": [
    "Answer:\n",
    "\n",
    "If you want to classify pictures as outdoor/indoor and daytime/nighttime, since these are not exclusive classes (i.e., all four combinations are possible) you should train two Logistic Regression classifiers."
   ]
  },
  {
   "cell_type": "markdown",
   "id": "9d0fef5e",
   "metadata": {},
   "source": [
    "# 12.\n",
    "\n",
    "Implement Batch Gradient Descent with early stopping for Softmax Regression\n",
    "(without using Scikit-Learn)."
   ]
  },
  {
   "cell_type": "markdown",
   "id": "76a2a67d",
   "metadata": {},
   "source": [
    "## Reusing the Iris dataset loaded earlier"
   ]
  },
  {
   "cell_type": "code",
   "execution_count": null,
   "id": "3f1f1911",
   "metadata": {},
   "outputs": [],
   "source": [
    "# Load X and Y data\n",
    "\n",
    "X = iris[\"data\"][:, (2, 3)]  # petal length, petal width\n",
    "y = iris[\"target\"]"
   ]
  },
  {
   "cell_type": "markdown",
   "id": "a914117c",
   "metadata": {},
   "source": [
    "Add the bias term for every instance ($x_0 = 1$):\n",
    "\n"
   ]
  },
  {
   "cell_type": "code",
   "execution_count": null,
   "id": "2eb405ce",
   "metadata": {},
   "outputs": [],
   "source": [
    "# add bias term\n",
    "X_with_bias = np.c_[np.ones([len(X), 1]), X]\n",
    "\n",
    "# set the random seed\n",
    "np.random.seed(42)"
   ]
  },
  {
   "cell_type": "markdown",
   "id": "f68683d6",
   "metadata": {},
   "source": [
    "## Split Data Manually"
   ]
  },
  {
   "cell_type": "code",
   "execution_count": null,
   "id": "47bf7da4",
   "metadata": {},
   "outputs": [],
   "source": [
    "# compute ratio\n",
    "test_ratio = 0.2\n",
    "validation_ratio = 0.2\n",
    "total_size = len(X_with_bias)\n",
    "\n",
    "# compute formula\n",
    "test_size = int(total_size * test_ratio)\n",
    "validation_size = int(total_size * validation_ratio)\n",
    "train_size = total_size - test_size - validation_size\n",
    "\n",
    "rnd_indices = np.random.permutation(total_size)\n",
    "\n",
    "# split X and Y data\n",
    "X_train = X_with_bias[rnd_indices[:train_size]]\n",
    "y_train = y[rnd_indices[:train_size]]\n",
    "X_valid = X_with_bias[rnd_indices[train_size:-test_size]]\n",
    "y_valid = y[rnd_indices[train_size:-test_size]]\n",
    "X_test = X_with_bias[rnd_indices[-test_size:]]\n",
    "y_test = y[rnd_indices[-test_size:]]"
   ]
  },
  {
   "cell_type": "markdown",
   "id": "6a69cdc2",
   "metadata": {},
   "source": [
    "**The targets are currently class indices (0, 1 or 2)**"
   ]
  },
  {
   "cell_type": "markdown",
   "id": "1ee06d7d",
   "metadata": {},
   "source": [
    "# Data Transformation"
   ]
  },
  {
   "cell_type": "code",
   "execution_count": null,
   "id": "c7fab82c",
   "metadata": {},
   "outputs": [],
   "source": [
    "# vector of class indices\n",
    "y_train[:10]"
   ]
  },
  {
   "cell_type": "markdown",
   "id": "562baa7d",
   "metadata": {},
   "source": [
    "This function converts the **vector of class indices** into **a matrix containing a one-hot vector** for each instance"
   ]
  },
  {
   "cell_type": "code",
   "execution_count": 6,
   "id": "5c604ca9",
   "metadata": {},
   "outputs": [],
   "source": [
    "# one-hot vector converter\n",
    "def to_one_hot(y):\n",
    "    n_classes = y.max() + 1\n",
    "    m = len(y)\n",
    "    Y_one_hot = np.zeros((m, n_classes))\n",
    "    Y_one_hot[np.arange(m), y] = 1\n",
    "    return Y_one_hot"
   ]
  },
  {
   "cell_type": "code",
   "execution_count": null,
   "id": "969221be",
   "metadata": {},
   "outputs": [],
   "source": [
    "# matrix containing a one-hot vector for each instance\n",
    "to_one_hot(y_train[:10])"
   ]
  },
  {
   "cell_type": "markdown",
   "id": "30f34db6",
   "metadata": {},
   "source": [
    "**Create the target class probabilities matrix for the training set and the test set**\n"
   ]
  },
  {
   "cell_type": "code",
   "execution_count": null,
   "id": "e0603cc2",
   "metadata": {},
   "outputs": [],
   "source": [
    "# create target class probabilities matrix\n",
    "Y_train_one_hot = to_one_hot(y_train)\n",
    "Y_valid_one_hot = to_one_hot(y_valid)\n",
    "Y_test_one_hot = to_one_hot(y_test)"
   ]
  },
  {
   "cell_type": "markdown",
   "id": "140b6d8e",
   "metadata": {},
   "source": [
    "# Select Model: Softmax Regression"
   ]
  },
  {
   "cell_type": "code",
   "execution_count": null,
   "id": "bb0026a5",
   "metadata": {},
   "outputs": [],
   "source": [
    "# define softmax function\n",
    "def softmax(logits):\n",
    "    exps = np.exp(logits)\n",
    "    exp_sums = np.sum(exps, axis=1, keepdims=True)\n",
    "    return exps / exp_sums"
   ]
  },
  {
   "cell_type": "markdown",
   "id": "89258978",
   "metadata": {},
   "source": [
    "**Define number of inputs and outputs**"
   ]
  },
  {
   "cell_type": "code",
   "execution_count": null,
   "id": "398a8278",
   "metadata": {},
   "outputs": [],
   "source": [
    "# 2 features plus the bias term\n",
    "n_inputs = X_train.shape[1]\n",
    "\n",
    "# 3 iris classes\n",
    "n_outputs = len(np.unique(y_train))"
   ]
  },
  {
   "cell_type": "markdown",
   "id": "4b903bd3",
   "metadata": {},
   "source": [
    "# Train Model"
   ]
  },
  {
   "cell_type": "code",
   "execution_count": null,
   "id": "670620a4",
   "metadata": {},
   "outputs": [],
   "source": [
    "# translating the Softmax Regression math equations into Python code\n",
    "eta = 0.01\n",
    "n_iterations = 5001\n",
    "m = len(X_train)\n",
    "epsilon = 1e-7\n",
    "\n",
    "Theta = np.random.randn(n_inputs, n_outputs)\n",
    "\n",
    "for iteration in range(n_iterations):\n",
    "    logits = X_train.dot(Theta)\n",
    "    Y_proba = softmax(logits)\n",
    "    if iteration % 500 == 0:\n",
    "        loss = -np.mean(np.sum(Y_train_one_hot * np.log(Y_proba + epsilon), axis=1))\n",
    "        print(iteration, loss)\n",
    "    error = Y_proba - Y_train_one_hot\n",
    "    gradients = 1/m * X_train.T.dot(error)\n",
    "    Theta = Theta - eta * gradients"
   ]
  },
  {
   "cell_type": "code",
   "execution_count": null,
   "id": "04e90ad3",
   "metadata": {},
   "outputs": [],
   "source": [
    "# observe model parameter\n",
    "Theta"
   ]
  },
  {
   "cell_type": "code",
   "execution_count": null,
   "id": "c09f6104",
   "metadata": {},
   "outputs": [],
   "source": [
    "# Make Predictions"
   ]
  },
  {
   "cell_type": "code",
   "execution_count": null,
   "id": "82c1b1b9",
   "metadata": {},
   "outputs": [],
   "source": [
    "logits = X_valid.dot(Theta)\n",
    "Y_proba = softmax(logits)\n",
    "y_predict = np.argmax(Y_proba, axis=1)"
   ]
  },
  {
   "cell_type": "markdown",
   "id": "8a9db84a",
   "metadata": {},
   "source": [
    "# Model Evaluation: Accuracy Score"
   ]
  },
  {
   "cell_type": "code",
   "execution_count": null,
   "id": "50540c7f",
   "metadata": {},
   "outputs": [],
   "source": [
    "accuracy_score = np.mean(y_predict == y_valid)\n",
    "accuracy_score"
   ]
  },
  {
   "cell_type": "markdown",
   "id": "a081f355",
   "metadata": {},
   "source": [
    "Now let's add early stopping. For this we just need to measure the loss on the validation set at every iteration and stop when the error starts growing."
   ]
  },
  {
   "cell_type": "code",
   "execution_count": null,
   "id": "5409d502",
   "metadata": {},
   "outputs": [],
   "source": [
    "eta = 0.1 \n",
    "n_iterations = 5001\n",
    "m = len(X_train)\n",
    "epsilon = 1e-7\n",
    "alpha = 0.1  # regularization hyperparameter\n",
    "best_loss = np.infty\n",
    "\n",
    "Theta = np.random.randn(n_inputs, n_outputs)\n",
    "\n",
    "for iteration in range(n_iterations):\n",
    "    logits = X_train.dot(Theta)\n",
    "    Y_proba = softmax(logits)\n",
    "    error = Y_proba - Y_train_one_hot\n",
    "    gradients = 1/m * X_train.T.dot(error) + np.r_[np.zeros([1, n_outputs]), alpha * Theta[1:]]\n",
    "    Theta = Theta - eta * gradients\n",
    "\n",
    "    logits = X_valid.dot(Theta)\n",
    "    Y_proba = softmax(logits)\n",
    "    xentropy_loss = -np.mean(np.sum(Y_valid_one_hot * np.log(Y_proba + epsilon), axis=1))\n",
    "    l2_loss = 1/2 * np.sum(np.square(Theta[1:]))\n",
    "    loss = xentropy_loss + alpha * l2_loss\n",
    "    if iteration % 500 == 0:\n",
    "        print(iteration, loss)\n",
    "    if loss < best_loss:\n",
    "        best_loss = loss\n",
    "    else:\n",
    "        print(iteration - 1, best_loss)\n",
    "        print(iteration, loss, \"early stopping!\")\n",
    "        break"
   ]
  },
  {
   "cell_type": "markdown",
   "id": "7423e404",
   "metadata": {},
   "source": [
    "**Make prediction**"
   ]
  },
  {
   "cell_type": "code",
   "execution_count": null,
   "id": "068d0a28",
   "metadata": {},
   "outputs": [],
   "source": [
    "logits = X_valid.dot(Theta)\n",
    "Y_proba = softmax(logits)\n",
    "y_predict = np.argmax(Y_proba, axis=1)"
   ]
  },
  {
   "cell_type": "markdown",
   "id": "ceddd823",
   "metadata": {},
   "source": [
    "**Model Evaluate**"
   ]
  },
  {
   "cell_type": "code",
   "execution_count": null,
   "id": "6b51dc6d",
   "metadata": {},
   "outputs": [],
   "source": [
    "# accuracy score\n",
    "accuracy_score = np.mean(y_predict == y_valid)\n",
    "accuracy_score"
   ]
  },
  {
   "cell_type": "markdown",
   "id": "7464ac60",
   "metadata": {},
   "source": [
    "# Visualization"
   ]
  },
  {
   "cell_type": "markdown",
   "id": "98cc2029",
   "metadata": {},
   "source": [
    "Plot the model's predictions on the whole dataset"
   ]
  },
  {
   "cell_type": "code",
   "execution_count": null,
   "id": "314babf9",
   "metadata": {},
   "outputs": [],
   "source": [
    "x0, x1 = np.meshgrid(\n",
    "        np.linspace(0, 8, 500).reshape(-1, 1),\n",
    "        np.linspace(0, 3.5, 200).reshape(-1, 1),\n",
    "    )\n",
    "X_new = np.c_[x0.ravel(), x1.ravel()]\n",
    "X_new_with_bias = np.c_[np.ones([len(X_new), 1]), X_new]\n",
    "\n",
    "logits = X_new_with_bias.dot(Theta)\n",
    "Y_proba = softmax(logits)\n",
    "y_predict = np.argmax(Y_proba, axis=1)\n",
    "\n",
    "zz1 = Y_proba[:, 1].reshape(x0.shape)\n",
    "zz = y_predict.reshape(x0.shape)\n",
    "\n",
    "plt.figure(figsize=(10, 4))\n",
    "plt.plot(X[y==2, 0], X[y==2, 1], \"g^\", label=\"Iris virginica\")\n",
    "plt.plot(X[y==1, 0], X[y==1, 1], \"bs\", label=\"Iris versicolor\")\n",
    "plt.plot(X[y==0, 0], X[y==0, 1], \"yo\", label=\"Iris setosa\")\n",
    "\n",
    "from matplotlib.colors import ListedColormap\n",
    "custom_cmap = ListedColormap(['#fafab0','#9898ff','#a0faa0'])\n",
    "\n",
    "plt.contourf(x0, x1, zz, cmap=custom_cmap)\n",
    "contour = plt.contour(x0, x1, zz1, cmap=plt.cm.brg)\n",
    "plt.clabel(contour, inline=1, fontsize=12)\n",
    "plt.xlabel(\"Petal length\", fontsize=14)\n",
    "plt.ylabel(\"Petal width\", fontsize=14)\n",
    "plt.legend(loc=\"upper left\", fontsize=14)\n",
    "plt.axis([0, 7, 0, 3.5])\n",
    "plt.show()"
   ]
  },
  {
   "cell_type": "code",
   "execution_count": null,
   "id": "d70da277",
   "metadata": {},
   "outputs": [],
   "source": [
    "**Make prediction**"
   ]
  },
  {
   "cell_type": "code",
   "execution_count": null,
   "id": "5ee9b340",
   "metadata": {},
   "outputs": [],
   "source": [
    "logits = X_test.dot(Theta)\n",
    "Y_proba = softmax(logits)\n",
    "y_predict = np.argmax(Y_proba, axis=1)"
   ]
  },
  {
   "cell_type": "code",
   "execution_count": null,
   "id": "a8a43a05",
   "metadata": {},
   "outputs": [],
   "source": [
    "**Model Evaluation**"
   ]
  },
  {
   "cell_type": "code",
   "execution_count": null,
   "id": "85c89edd",
   "metadata": {},
   "outputs": [],
   "source": [
    "accuracy_score = np.mean(y_predict == y_test)\n",
    "accuracy_score"
   ]
  },
  {
   "cell_type": "code",
   "execution_count": null,
   "id": "1c974f16",
   "metadata": {},
   "outputs": [],
   "source": []
  }
 ],
 "metadata": {
  "kernelspec": {
   "display_name": "Python 3",
   "language": "python",
   "name": "python3"
  },
  "language_info": {
   "codemirror_mode": {
    "name": "ipython",
    "version": 3
   },
   "file_extension": ".py",
   "mimetype": "text/x-python",
   "name": "python",
   "nbconvert_exporter": "python",
   "pygments_lexer": "ipython3",
   "version": "3.8.8"
  }
 },
 "nbformat": 4,
 "nbformat_minor": 5
}
